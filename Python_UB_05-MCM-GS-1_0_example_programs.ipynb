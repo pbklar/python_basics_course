{
 "cells": [
  {
   "cell_type": "markdown",
   "id": "838577c0-eacc-4c22-b87e-fa0347b05c6b",
   "metadata": {},
   "source": [
    "**<span style='color: #FF0000'>EPyC</span> : Explorative Python Course** by Paul Klar (paul.klar@uni-bremen.de) is licensed under CC BY 4.0\n",
    "\n",
    "Notebook Version: 2024.10.29"
   ]
  },
  {
   "cell_type": "markdown",
   "id": "08c7051c-0a0e-403d-980e-e448d29eeb68",
   "metadata": {
    "tags": []
   },
   "source": [
    "# Example Programs\n",
    "Here are a few programs demonstrating introductory use cases of the Python programming language."
   ]
  },
  {
   "cell_type": "markdown",
   "id": "2fd57964-b0dc-4e7d-a618-1ee520b409d1",
   "metadata": {
    "tags": []
   },
   "source": [
    "### 0.0.1 Example program: circle\n",
    "Below is a typical program: It asks for an input from the user, processes the input, and then generates some output."
   ]
  },
  {
   "cell_type": "code",
   "execution_count": null,
   "id": "1c411705-ade5-453a-a27e-ab04417fb3b1",
   "metadata": {
    "scrolled": true,
    "tags": []
   },
   "outputs": [],
   "source": [
    "# Properties of a circle\n",
    "\n",
    "# get radius as user input\n",
    "radius = input(\"Input the radius (in m):\\n\")\n",
    "\n",
    "# convert input to a number\n",
    "radius = float(radius)\n",
    "\n",
    "# calculate properties\n",
    "pi = 3.141592653589793238462643\n",
    "area = radius * radius * pi\n",
    "circumference = 2 * radius * pi\n",
    "\n",
    "# output\n",
    "print(f\"\"\"\n",
    "    Properties of the circle:\n",
    "    Radius:        {radius:6.2f} m\n",
    "    Diameter:      {2*radius:6.2f} m\n",
    "    Circumference: {circumference:6.2f} m\n",
    "    Area:          {area:6.2f} m2\n",
    "    \"\"\"    \n",
    ")"
   ]
  },
  {
   "cell_type": "markdown",
   "id": "489537f2-a4cb-4074-8a97-b070d127fd01",
   "metadata": {},
   "source": [
    "### 0.0.2 Example program: Global population\n",
    "Below is another typical program: Typically, the data would not be *hardcoded* into the program, but would be read from an external file. Anyway, the data is then processed so that the we can work with the numbers from the input. Finally, the relevant data is plotted."
   ]
  },
  {
   "cell_type": "code",
   "execution_count": null,
   "id": "ecaeb353-d200-45be-95ec-573e9973cd8b",
   "metadata": {
    "tags": []
   },
   "outputs": [],
   "source": [
    "import matplotlib.pyplot as plt\n",
    "\n",
    "# Data: global population between 1800 and 2020\n",
    "Data = \"\"\"\n",
    "1800    984741150\n",
    "1805   1001758060\n",
    "1810   1022630190\n",
    "1815   1054586110\n",
    "1820   1092947430\n",
    "1825   1128342970\n",
    "1830   1166619870\n",
    "1835   1194777020\n",
    "1840   1224118690\n",
    "1845   1250936420\n",
    "1850   1278698170\n",
    "1855   1289344090\n",
    "1860   1303155270\n",
    "1865   1322223330\n",
    "1870   1348154280\n",
    "1875   1383207450\n",
    "1880   1425998660\n",
    "1885   1477744360\n",
    "1890   1536461990\n",
    "1895   1588397650\n",
    "1900   1647405020\n",
    "1905   1716473040\n",
    "1910   1793323590\n",
    "1915   1855949020\n",
    "1920   1926217440\n",
    "1925   2008052090\n",
    "1930   2104067380\n",
    "1935   2210412970\n",
    "1940   2327357750\n",
    "1945   2417413700\n",
    "1950   2536431030\n",
    "1955   2773019920\n",
    "1960   3034949720\n",
    "1965   3339583510\n",
    "1970   3700437050\n",
    "1975   4079480490\n",
    "1980   4458003470\n",
    "1985   4870921670\n",
    "1990   5327231040\n",
    "1995   5744212930\n",
    "2000   6143493810\n",
    "2005   6541906950\n",
    "2010   6956823590\n",
    "2015   7379796970\n",
    "2020   7794798730\"\"\".split(\"\\n\")\n",
    "\n",
    "# Process data\n",
    "Year = [ int(Line.split()[0]) for Line in Data[1:]  ]\n",
    "Population = [ int(Line.split()[1])/1e9 for Line in Data[1:]  ]\n",
    "\n",
    "# Plot graph\n",
    "plt.title(\"Global population\")\n",
    "plt.plot(Year, Population, \"o-\")\n",
    "plt.xlabel(\"Year\")\n",
    "plt.ylabel(\"Global population (in billions)\")\n",
    "plt.show()"
   ]
  },
  {
   "cell_type": "markdown",
   "id": "68818ba7-4220-4f8c-b9f9-6afdd31ed44b",
   "metadata": {},
   "source": [
    "### 0.0.3 Example program: Get global population of a certain year\n",
    "Using the data from example program 0.0.2, we can get the population of a given year."
   ]
  },
  {
   "cell_type": "code",
   "execution_count": null,
   "id": "279a59af-efd0-4080-91ce-10cd90c593f8",
   "metadata": {
    "tags": []
   },
   "outputs": [],
   "source": [
    "# Get the population in a certain year\n",
    "user_year = 0\n",
    "while not 1800 <= user_year <= 2020:\n",
    "    user_year = input(\"Which year are you interested in (1800-2020)?    \")\n",
    "    user_year = float(user_year)\n",
    "\n",
    "if user_year%5 == 0: # no interpolation needed\n",
    "    result = Population[Year.index(int(user_year))]\n",
    "else:    # linear interpolation\n",
    "    # Data point left from user_year\n",
    "    LeftYear = int(user_year - user_year%5)\n",
    "    LeftPopulation = Population[Year.index(LeftYear)]\n",
    "    # Data point right from user_year\n",
    "    RightYear = int(LeftYear + 5)\n",
    "    RightPopulation = Population[Year.index(RightYear)]\n",
    "    \n",
    "    result = LeftPopulation + (user_year%5)/5*(RightPopulation - LeftPopulation)\n",
    "      \n",
    "print()\n",
    "print(\"In the year\", int(user_year), \n",
    "      \"the global population was\", f\"{result:.2f}\", \"billion.\")    "
   ]
  }
 ],
 "metadata": {
  "kernelspec": {
   "display_name": "Python 3 (ipykernel)",
   "language": "python",
   "name": "python3"
  },
  "language_info": {
   "codemirror_mode": {
    "name": "ipython",
    "version": 3
   },
   "file_extension": ".py",
   "mimetype": "text/x-python",
   "name": "python",
   "nbconvert_exporter": "python",
   "pygments_lexer": "ipython3",
   "version": "3.10.11"
  }
 },
 "nbformat": 4,
 "nbformat_minor": 5
}
