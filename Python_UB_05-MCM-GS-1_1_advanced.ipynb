{
 "cells": [
  {
   "cell_type": "markdown",
   "metadata": {},
   "source": [
    "**<span style='color: #FF0000'>EPyC</span> : Explorative Python Course** by Paul Klar (paul.klar@uni-bremen.de) is licensed under CC BY 4.0\n",
    "\n",
    "Notebook Version: 2024.10.29"
   ]
  },
  {
   "cell_type": "markdown",
   "metadata": {},
   "source": [
    "# Topics of Bonus Notebook 1: \n",
    "- positional and keyword arguments of functions\n",
    "- floating point numbers and IEEE 457"
   ]
  },
  {
   "cell_type": "markdown",
   "metadata": {},
   "source": [
    "## 1.0 Types of function parameters\n",
    "Function parameters may be defined by their position or a function-specific keyword. These parameters are the arguments of the function.\n",
    "The following types exist:\n",
    "- position-only argument: parameter is only defined by its position without a usable keyword (e.g. builtin function abs)\n",
    "- keyword-only argument: parameter is only used if the associated keyword is used (e.g. keyword *sep* of the builtin function print)\n",
    "- keyword or positional argument: the function can be called without keywords and the parameters are defined by the position, or the function may be called using an arbitary order of the keywords (e.g. keywords *base* and *exp* of the builtin function pow)"
   ]
  },
  {
   "cell_type": "markdown",
   "metadata": {
    "tags": []
   },
   "source": [
    "#### 1.0.0 Position-only parameter"
   ]
  },
  {
   "cell_type": "code",
   "execution_count": null,
   "metadata": {},
   "outputs": [],
   "source": [
    "help(abs)"
   ]
  },
  {
   "cell_type": "code",
   "execution_count": null,
   "metadata": {
    "tags": []
   },
   "outputs": [],
   "source": [
    "# this does not work, because x is a position-only parameter\n",
    "abs(x=-3)"
   ]
  },
  {
   "cell_type": "code",
   "execution_count": null,
   "metadata": {
    "tags": []
   },
   "outputs": [],
   "source": [
    "# more examples: float, int, \n",
    "round(number=3, ndigits=3)"
   ]
  },
  {
   "cell_type": "markdown",
   "metadata": {
    "tags": []
   },
   "source": [
    "#### 1.0.1 Keyword-only arguments (PEP 3102)\n",
    "https://peps.python.org/pep-3102/\n",
    "\n",
    "Typically, some function arguments are positional, and only a subset of arguments are keyword-only arguments. Keyword-only arguments are always the last arguments in the list of arguments."
   ]
  },
  {
   "cell_type": "code",
   "execution_count": null,
   "metadata": {
    "tags": []
   },
   "outputs": [],
   "source": [
    "# without keyword sep\n",
    "print(1,2,'3')"
   ]
  },
  {
   "cell_type": "code",
   "execution_count": null,
   "metadata": {
    "tags": []
   },
   "outputs": [],
   "source": [
    "# with keyword sep\n",
    "print(1,2,sep='3')"
   ]
  },
  {
   "cell_type": "code",
   "execution_count": null,
   "metadata": {
    "tags": []
   },
   "outputs": [],
   "source": [
    "print(1,2,'3', sep=' |-_-| ')"
   ]
  },
  {
   "cell_type": "markdown",
   "metadata": {
    "tags": []
   },
   "source": [
    "#### 1.0.2 Keyword or positional arguments\n",
    "The typical function argument can be defined by its position or by the keyword argument.\n",
    "\n",
    "Example: help() accepts one argument *request*. If help is called with one argument, the first (and only) argument is taken as *request*"
   ]
  },
  {
   "cell_type": "code",
   "execution_count": null,
   "metadata": {
    "tags": []
   },
   "outputs": [],
   "source": [
    "help(pow)"
   ]
  },
  {
   "cell_type": "code",
   "execution_count": null,
   "metadata": {
    "scrolled": true
   },
   "outputs": [],
   "source": [
    "help(request=pow)"
   ]
  },
  {
   "cell_type": "markdown",
   "metadata": {},
   "source": [
    "From this we can see that we must provide at least two arguments to call pow: base and exp."
   ]
  },
  {
   "cell_type": "code",
   "execution_count": null,
   "metadata": {},
   "outputs": [],
   "source": [
    "# Default order: first argument is the base, second argument is the exponent.\n",
    "pow(5,2)"
   ]
  },
  {
   "cell_type": "code",
   "execution_count": null,
   "metadata": {
    "tags": []
   },
   "outputs": [],
   "source": [
    "5**2 == pow(5,2)"
   ]
  },
  {
   "cell_type": "markdown",
   "metadata": {
    "tags": []
   },
   "source": [
    "We can also use the keywords explicitly."
   ]
  },
  {
   "cell_type": "code",
   "execution_count": null,
   "metadata": {},
   "outputs": [],
   "source": [
    "# Explicit use of keyword arguments\n",
    "pow(base=5, exp=2)"
   ]
  },
  {
   "cell_type": "code",
   "execution_count": null,
   "metadata": {},
   "outputs": [],
   "source": [
    "# If you use keywords explicitly, you may change the order.\n",
    "pow(exp=2, base=5)\n",
    "\n",
    "# As there is no obvious advantage of changing the order of keywords, \n",
    "# it is highly recommended to stick to the default order to avoid potential confusion."
   ]
  },
  {
   "cell_type": "code",
   "execution_count": null,
   "metadata": {
    "tags": []
   },
   "outputs": [],
   "source": [
    "# You may also use the first argument as positional argument, and later arguments as keyword arguments:\n",
    "pow(5, exp=2)"
   ]
  },
  {
   "cell_type": "code",
   "execution_count": null,
   "metadata": {
    "tags": []
   },
   "outputs": [],
   "source": [
    "# If keyword and positional arguments are mixed, positional arguments must come FIRST!\n",
    "# Otherwise, a SyntaxError is thrown.\n",
    "pow(base=5, 2)"
   ]
  },
  {
   "cell_type": "markdown",
   "metadata": {
    "tags": []
   },
   "source": [
    "#### 1.0.3 Defining functions with positional-only arguments\n",
    "We can easily define our own function that takes only positional arguments:"
   ]
  },
  {
   "cell_type": "code",
   "execution_count": null,
   "metadata": {
    "tags": []
   },
   "outputs": [],
   "source": [
    "def pow2(base, exp,/):\n",
    "    'Like pow, but pow2 only accepts positional arguments ...'\n",
    "    return base**exp\n",
    "\n",
    "pow2(2,5)"
   ]
  },
  {
   "cell_type": "code",
   "execution_count": null,
   "metadata": {
    "tags": []
   },
   "outputs": [],
   "source": [
    "pow2(base=2, exp=5)"
   ]
  },
  {
   "cell_type": "markdown",
   "metadata": {},
   "source": [
    "***\n",
    "## 1.1 floating point numbers and IEEE 754\n",
    "\n",
    "You may think of this like this: We represent a real number by storing 2 **integer** parameters fraction F, and exponent X. We then construct the number as F * 10^X. A limitation is that we can only use e.g. (up to) 6 digits for F and X.<br>\n",
    "Example:\n",
    "- F = 314159\n",
    "- X = -5\n",
    "\n",
    "F * 10^X = 314159 * 10^(-5) = 3.14159\n",
    "\n",
    "Thus, with 12 digits we can construct numbers between -999999 * 10^(999999) and +999999 * 10^(999999), but we cannot represent any arbitrary real number. The above example of 3.14159 is NOT identical to π, but an approximation with 6 significant digits.\n",
    "\n",
    "This format in general is called floating-point format, because we first define an integer number and then with the exponent we shift the decimal point. An alternative term could be *shifting-point format*.\n",
    "\n",
    "In the computer, the format is slightly different (e.g. numbers are defined as binary numbers, which use the base 2 instead of 10), but the concept is the same. There are 64 positions (bits) to store a (binary) floating-point number. 1 bit is used to define the sign *s* (positive or negative number), 11 bits are used for the exponent *x*, and 52 bits are used for the fractional part *f*. Then, the number *r* is calculated as $ r=(-1)^{s}(1+\\sum _{i=1}^{52}f_{52-i}2^{-i})\\cdot 2^{x-1023} $\n",
    "\n",
    "\n",
    "Effectively, we achieve about 16 significant digits in the decimal (base 10) representation.\n",
    "\n",
    "If you want to understand this in more detail, ask YouTube or Wikipedia:\n",
    "https://en.wikipedia.org/wiki/Double-precision_floating-point_format\n",
    "\n",
    "By the way: Your beloved pocket calculator does the same. You can test it easily with the following input:<br>\n",
    "π - 3.141592653 <br>\n",
    "My calculator says the difference is:  5.9 * 10^(-10)<br>\n",
    "However, the true difference is: 5.897932384626 ... * 10^(-10)<br>\n",
    "\n",
    "\n",
    "By the way: Any rational number that can be expressed as n/(2^m), where n and m are integers, has an exact floating-point representation. (For more information: https://en.wikipedia.org/wiki/Dyadic_rational#In_computing)"
   ]
  },
  {
   "cell_type": "markdown",
   "metadata": {
    "tags": []
   },
   "source": [
    "We can define a function that returns the binary representation of a float number in the way how it is stored in the memory of your computer:"
   ]
  },
  {
   "cell_type": "code",
   "execution_count": null,
   "metadata": {
    "tags": []
   },
   "outputs": [],
   "source": [
    "import struct\n",
    "\n",
    "def float2bin(f, sep=None):\n",
    "    ''' Convert floating point number to string of 1s and 0s\n",
    "        representing the 64-bit binary number as stored in\n",
    "        the computer's memory. '''\n",
    "    [d] = struct.unpack(\">Q\", struct.pack(\">d\", f))\n",
    "    result = f'{d:064b}'\n",
    "    if sep is None:\n",
    "        return result\n",
    "    else:\n",
    "        return sep.join( [result[0], result[1:13], result[13:]] )"
   ]
  },
  {
   "cell_type": "code",
   "execution_count": null,
   "metadata": {
    "tags": []
   },
   "outputs": [],
   "source": [
    "float2bin(3.14159)"
   ]
  },
  {
   "cell_type": "code",
   "execution_count": null,
   "metadata": {
    "tags": []
   },
   "outputs": [],
   "source": [
    "float2bin(-3.14159)"
   ]
  },
  {
   "cell_type": "code",
   "execution_count": null,
   "metadata": {
    "tags": []
   },
   "outputs": [],
   "source": [
    "float2bin(3.14159, sep='   ')"
   ]
  },
  {
   "cell_type": "code",
   "execution_count": null,
   "metadata": {
    "tags": []
   },
   "outputs": [],
   "source": [
    "float2bin(-42.0, sep='   ')"
   ]
  },
  {
   "cell_type": "code",
   "execution_count": null,
   "metadata": {
    "tags": []
   },
   "outputs": [],
   "source": [
    "float2bin(-0.1, sep='   ')"
   ]
  },
  {
   "cell_type": "code",
   "execution_count": null,
   "metadata": {
    "tags": []
   },
   "outputs": [],
   "source": [
    "float2bin(-1.1, sep='   ')"
   ]
  },
  {
   "cell_type": "markdown",
   "metadata": {},
   "source": [
    "## 1.2 Comparison of strings"
   ]
  },
  {
   "cell_type": "markdown",
   "metadata": {},
   "source": [
    "Comparison of strings is possible. It is highly recommended to check only if strings (or substrings) are equal, but do not use **>** or **<** (even if it works)!"
   ]
  },
  {
   "cell_type": "code",
   "execution_count": null,
   "metadata": {
    "tags": []
   },
   "outputs": [],
   "source": [
    "# Do you think 'a' is less than 'b'?\n",
    "'a' < 'b'"
   ]
  },
  {
   "cell_type": "code",
   "execution_count": null,
   "metadata": {
    "tags": []
   },
   "outputs": [],
   "source": [
    "'A' < 'b'"
   ]
  },
  {
   "cell_type": "code",
   "execution_count": null,
   "metadata": {
    "tags": []
   },
   "outputs": [],
   "source": [
    "'a' < 'B'"
   ]
  },
  {
   "cell_type": "code",
   "execution_count": null,
   "metadata": {
    "tags": []
   },
   "outputs": [],
   "source": [
    "'5' > '3'"
   ]
  },
  {
   "cell_type": "code",
   "execution_count": null,
   "metadata": {
    "tags": []
   },
   "outputs": [],
   "source": [
    "'200' == str(200)"
   ]
  },
  {
   "cell_type": "code",
   "execution_count": null,
   "metadata": {},
   "outputs": [],
   "source": [
    "# Here are a couple of examples that are not intuitive at all. This is the illustration on which the above recommendation is based: Do not compare strings wit"
   ]
  },
  {
   "cell_type": "code",
   "execution_count": null,
   "metadata": {
    "tags": []
   },
   "outputs": [],
   "source": [
    "'-3' < '-4' # !"
   ]
  },
  {
   "cell_type": "code",
   "execution_count": null,
   "metadata": {
    "tags": []
   },
   "outputs": [],
   "source": [
    "'+3' > '-3' # !"
   ]
  },
  {
   "cell_type": "code",
   "execution_count": null,
   "metadata": {
    "tags": []
   },
   "outputs": [],
   "source": [
    "'-0' <= '+0'"
   ]
  },
  {
   "cell_type": "code",
   "execution_count": null,
   "metadata": {
    "tags": []
   },
   "outputs": [],
   "source": [
    "' 3' < '3'"
   ]
  },
  {
   "cell_type": "code",
   "execution_count": null,
   "metadata": {
    "tags": []
   },
   "outputs": [],
   "source": [
    "'235.0' < ' 235.1'"
   ]
  },
  {
   "cell_type": "code",
   "execution_count": null,
   "metadata": {
    "tags": []
   },
   "outputs": [],
   "source": [
    "' a' < 'a'"
   ]
  },
  {
   "cell_type": "markdown",
   "metadata": {},
   "source": [
    "How does this actually work? How does Python decide, which character is less or equal than another character?\n",
    "\n",
    "Each symbol has a corresponding integer value. For the most applied symbols, this is defined by the ASCII table (American Standard Code for Information Interchange):\n",
    "- https://python-reference.readthedocs.io/en/latest/docs/str/ASCII.html\n",
    "- https://en.wikipedia.org/wiki/ASCII\n",
    "\n",
    "In this table, the symbol '1' has the identifier 49. The symbol 'A' has ID 65. The symbol 'a' has ID 97.\n",
    "\n",
    "The ID of a symbol can be determined with the builtin function ord(). The function takes only one argument, which must be a string of length 1."
   ]
  },
  {
   "cell_type": "code",
   "execution_count": null,
   "metadata": {
    "tags": []
   },
   "outputs": [],
   "source": [
    "# The symbol '1' used in strings has the ID 49, '2' has ID 50.\n",
    "ord(\"1\")"
   ]
  },
  {
   "cell_type": "code",
   "execution_count": null,
   "metadata": {
    "tags": []
   },
   "outputs": [],
   "source": [
    "ord(\"2\")"
   ]
  },
  {
   "cell_type": "code",
   "execution_count": null,
   "metadata": {
    "tags": []
   },
   "outputs": [],
   "source": [
    "# That is why \"1\" < \"2\" yields the mathematically expected result.\n",
    "\"1\" < \"2\""
   ]
  },
  {
   "cell_type": "code",
   "execution_count": null,
   "metadata": {
    "tags": []
   },
   "outputs": [],
   "source": [
    "# Blank spaces complicate things:\n",
    "ord(\" \")"
   ]
  },
  {
   "cell_type": "code",
   "execution_count": null,
   "metadata": {
    "tags": []
   },
   "outputs": [],
   "source": [
    "# We can now understand other examples:\n",
    "print(\"Is ' 20' less than '-20'?\")\n",
    "print(\" 20\" < \"-20\")\n",
    "ord(\" \"), '<', ord(\"-\")"
   ]
  },
  {
   "cell_type": "code",
   "execution_count": null,
   "metadata": {
    "tags": []
   },
   "outputs": [],
   "source": [
    "print(\"Is A 'less than' a?\")\n",
    "print(\"A\" < \"a\")\n",
    "ord(\"A\"), \"<\", ord(\"a\")"
   ]
  },
  {
   "cell_type": "code",
   "execution_count": null,
   "metadata": {
    "tags": []
   },
   "outputs": [],
   "source": [
    "# For strings with a length > 1, the first position that differs is used to decide which string is 'larger' or 'smaller' than the other.\n",
    "a = \"aaa\"\n",
    "b = \"aab\"\n",
    "for i in range(3):\n",
    "    # For each letter, compare the character ID and print the character IDs\n",
    "    print(a[i]<b[i], \":\", ord(a[i]), \"<\", ord(b[i]))\n",
    "print()\n",
    "print(\"Is\", a, \"less than\", b,\"?\")\n",
    "print(a<b)    \n",
    "    "
   ]
  },
  {
   "cell_type": "code",
   "execution_count": null,
   "metadata": {
    "tags": []
   },
   "outputs": [],
   "source": [
    "a = \"one\"\n",
    "b = \"two\"\n",
    "for i in range(3):\n",
    "    # For each letter, compare the character ID and print the character IDs\n",
    "    print(a[i]<b[i], \":\", ord(a[i]), \"<\", ord(b[i]))\n",
    "print()\n",
    "print(\"Is\", a, \"less than\", b,\"?\")\n",
    "print(a<b)  "
   ]
  },
  {
   "cell_type": "code",
   "execution_count": null,
   "metadata": {
    "tags": []
   },
   "outputs": [],
   "source": [
    "a = \"four\"\n",
    "b = \"five\"\n",
    "for i in range(4):\n",
    "    print(a[i]<b[i], \":\", ord(a[i]), \"<\", ord(b[i]))\n",
    "print()\n",
    "print(\"Is\", a, \"less than\", b,\"?\")\n",
    "print(a<b)    \n",
    "    "
   ]
  },
  {
   "cell_type": "code",
   "execution_count": null,
   "metadata": {},
   "outputs": [],
   "source": [
    "# Lists behave similar\n",
    "[1,2] < [1,3]"
   ]
  },
  {
   "cell_type": "code",
   "execution_count": null,
   "metadata": {
    "tags": []
   },
   "outputs": [],
   "source": [
    "# Tuples behave similar\n",
    "(1,5) > (1,0)"
   ]
  },
  {
   "cell_type": "markdown",
   "metadata": {},
   "source": [
    "**Recommendation:** Do not use < and > with strings, lists, or tuples.\n",
    "\n",
    "**Recommendation:** Use < and > only with integers and floats."
   ]
  },
  {
   "cell_type": "markdown",
   "metadata": {},
   "source": [
    "***\n",
    "## END OF BONUS NOTEBOOK 1\n",
    "***"
   ]
  }
 ],
 "metadata": {
  "kernelspec": {
   "display_name": "Python 3 (ipykernel)",
   "language": "python",
   "name": "python3"
  },
  "language_info": {
   "codemirror_mode": {
    "name": "ipython",
    "version": 3
   },
   "file_extension": ".py",
   "mimetype": "text/x-python",
   "name": "python",
   "nbconvert_exporter": "python",
   "pygments_lexer": "ipython3",
   "version": "3.10.11"
  }
 },
 "nbformat": 4,
 "nbformat_minor": 4
}
