{
 "cells": [
  {
   "cell_type": "markdown",
   "metadata": {},
   "source": [
    "# Programming (05-MCM-GS1)\n",
    "\n",
    "Lecturer: Paul Klar (paul.klar@uni-bremen.de)\n",
    "\n",
    "3 CP, 2 SWS\n",
    "\n",
    "https://www.geo.uni-bremen.de/page.php?pageid=1047&p_reg=2&einheit=4311&modid=331"
   ]
  },
  {
   "cell_type": "markdown",
   "metadata": {},
   "source": [
    "# Topics of Notebook 0: \n",
    "- Course introduction\n",
    "- Jupyter notebooks\n",
    "- first steps in Python\n",
    "- Python syntax\n",
    "- Python data types"
   ]
  },
  {
   "cell_type": "markdown",
   "metadata": {},
   "source": [
    "---\n",
    "## 0.0 Course Introduction\n",
    "\n",
    "\n",
    "When you read this you have a running Jupyter notebook system, most likely from the *jupyterhub* offered by the Universität Bremen. We will will work almost exclusively with this system.\n",
    "\n",
    "In general, code can be executed on your own laptop/PC/mobile phone etc. or on a server. **It is recommended to use either *jupyterhub* from the server or to use an installation on your own laptop**. \n",
    "\n",
    "A description how to install Python was provided via *Stud.IP*. If you have Python (or Anaconda/miniconda) installed locally on your device, feel free to use your own installation. In principle, there are also public Jupyter notebook servers and terminals (e.g. https://www.programiz.com/python-programming/online-compiler/), but its use is **not recommended** (slow execution, sometimes no execution at all, how do you save files? guaranteed access in the future?).\n",
    "\n",
    "***\n",
    "\n",
    "We will not talk about how programming languages work in general, the interplay of the hardware components, or what Python does exactly with your code in the background so that you see the result. This is a purely practical course and we will focus on applying the programming language.\n",
    "\n",
    "If you are interested in these aspects, I recommend visiting the library (or YouTube).\n",
    "***\n",
    "\n",
    "For this course, we can distinguish 3 different 'modes':\n",
    "1. Explanations during the class: The lecturer introduces and explains a topic. Usually, the execution of some code will be demonstrated. Students are expected to watch, listen, type, and execute the input as demonstrated by the lecturer. The student's notebook should be more or less look identical to what is shown on the big screen. **If there are problems of any kind (lecturer is too fast, unexpected output, questions in general), please raise your hand!**\n",
    "<br>**Example:**<br>\n",
    "```python\n",
    "print(\"Hello programmers!\") # print is the command, \"Hello programmers!\" is the argument\n",
    "```\n",
    "\n",
    "2. <span style='background : magenta' >Write (or adapt) code</span>: An exercise is given to the students which expects a defined result. Students are expected to provide an answer, which typically consists of a few lines of Python code. In all cases, there will be several correct solutions. If the exercise is homework exercise, a solution will be provided during the next class. If the exercise comes up during the class, students will usually have a couple of minutes to work on it before a solution is presented by the lecturer.\n",
    "<br>**Example:**<br>\n",
    "```python\n",
    "# Write a Python program that prints out \"Hello programmers!\" on the screen.\n",
    "...\n",
    "```\n",
    "\n",
    "3. <span style='background : yellow' >Read (and execute) provided code</span>: The students execute code that was already programmed. Students are expected to read the code, understand it, predict the result, then execute the code and finally analyse the outcome. This will be usually part of homework exercises.\n",
    "<br>**Example:**<br>\n",
    "```python\n",
    "# execute the following command\n",
    "print(\"Hello\", \"programmers\", \"!\") \n",
    "```"
   ]
  },
  {
   "cell_type": "markdown",
   "metadata": {},
   "source": [
    "### <span style='background : yellow' >0.0.1 Example code: circle</span>\n",
    "This is an (advanced) example exercise. Read the code, try to understand it, then execute the code. \n",
    "You may set the radius to a different value and execute the code again."
   ]
  },
  {
   "cell_type": "code",
   "execution_count": null,
   "metadata": {
    "scrolled": true,
    "tags": []
   },
   "outputs": [],
   "source": [
    "# Properties of a circle\n",
    "\n",
    "# user input\n",
    "radius = 2\n",
    "\n",
    "# calculate properties\n",
    "pi = 3.141592653589793238462643\n",
    "area = radius * radius * pi\n",
    "circumference = 2 * radius * pi\n",
    "\n",
    "# output\n",
    "print(f\"\"\"\n",
    "    Properties of the circle:\n",
    "    Radius:        {radius:6.2f} m\n",
    "    Diameter:      {2*radius:6.2f} m\n",
    "    Circumference: {circumference:6.2f} m\n",
    "    Area:          {area:6.2f} m2\n",
    "    \"\"\"    \n",
    ")"
   ]
  },
  {
   "cell_type": "markdown",
   "metadata": {},
   "source": [
    "## 0.1 Jupyter Interface\n",
    "- Jupyter can be used as a programming environment for several programming languages (R, Julia, and others), which is also supported by *jupyterhub*. We here use it only for Python.\n",
    "- It is like a fancy text editor (like Windows Notepad) with extended functionality, the most important one is that it can **execute Python code**.\n",
    "- Jupyter notebooks are text files with extension \\*.ipynb. These files are stored on the server and can be downloaded via *File* -> *Download as* -> *Notebook (.ipynb)*. They can also be downloaded in other formats, which is not relevant yet.\n",
    "- We will get familiar with Jupyter by playing with a few options"
   ]
  },
  {
   "cell_type": "markdown",
   "metadata": {},
   "source": [
    ">### <span style='background : yellow' >TASK Run 0.1.0</span>: Execute your first Python code\n",
    "Below this text there is a block with\n",
    "```python\n",
    "print(\"Hello programmers!\")\n",
    "```\n",
    "1. Click on this cell so that there is a blue border around it. A blue border indicates that the cell is selected, a green border indicates that you are editing the content of the selected cell.\n",
    "2. Execute the print command by clicking on *Cell* -> *Run Cells* from the top menu.\n",
    "3. After successful execution, below the cell the text \"Hello programmers!\" will show up."
   ]
  },
  {
   "cell_type": "code",
   "execution_count": null,
   "metadata": {},
   "outputs": [],
   "source": [
    "print(\"Hello programmers!\")"
   ]
  },
  {
   "cell_type": "markdown",
   "metadata": {},
   "source": [
    ">### <span style='background : yellow' >TASK Run 0.1.1</span>: Execute more Python code\n",
    "1. Select the cell below.\n",
    "2. Execute the Python code of the cell."
   ]
  },
  {
   "cell_type": "code",
   "execution_count": null,
   "metadata": {},
   "outputs": [],
   "source": [
    "result = 5 + 4\n",
    "print(result)"
   ]
  },
  {
   "cell_type": "markdown",
   "metadata": {},
   "source": [
    ">*Run tasks* marked in yellow indicate that there is pre-written in code in one (or more) cells below the task. No writing or modification of the code is needed. However, it is of course allowed (and recommended) to play with the code. There will be often some additional comment, but in general this means that you should do the following:\n",
    "1. Read the code\n",
    "2. Predict what will happen when you execute the code\n",
    "3. Execute the code\n",
    "4. Make sure that you understand the outcome of the code\n",
    "5. If you are not sure if you understand fully the code, one approach is to change something in the code. We will later learn about getting a detailed description of each element of the Python programming language.\n",
    "6. You will always be given some time to execute the code to also play around with it. There will also be time for questions before we continue."
   ]
  },
  {
   "cell_type": "markdown",
   "metadata": {},
   "source": [
    ">### <span style='background : yellow' >TASK Run 0.1.2:</span> Jupyter interface options\n",
    "Click on the following top menu items\n",
    "1. *View* -> *Toggle Toolbar*\n",
    "2. *View* -> *Toggle Header*\n",
    "3. *View* -> *Toggle Line Numbers* (look at the cell below)\n",
    "\n",
    "Personally, I prefer the interface with toolbar and with line numbers, but without header. Use these options to adapt the interface to your preference."
   ]
  },
  {
   "cell_type": "code",
   "execution_count": null,
   "metadata": {},
   "outputs": [],
   "source": [
    "# <<<< This is line 1.\n",
    "# <<<< This is line 2.\n",
    "# It is recommended to have line numbers always switched on.\n",
    "# If you have a question or comment related to a command, then you can specify exactly which command you mean.\n",
    "# Example: This print command is in line 6 of Task 0.1.2.\n",
    "print()"
   ]
  },
  {
   "cell_type": "markdown",
   "metadata": {},
   "source": [
    "## 0.2 Jupyter shortcuts\n",
    "There are many valuable shortcuts using only your keyboard. Note that on the German keyboard, the CTRL-key is called STRG. Most shortcuts only work if you are NOT in editing mode, that means the selected cell has a blue border and NOT a green border.\n",
    "- Execute selected or active cell: CTRL + ENTER\n",
    "- Open new cell below selected cell (marked blue, not green): B\n",
    "- Open new cell above selected cell (marked blue, not green): A\n",
    "- Toggle line numbers: SHIFT + L\n",
    "- See list of short cuts: H\n",
    "\n",
    "For now, the most important shortcut is CTRL + Enter to execute a selected cell."
   ]
  },
  {
   "cell_type": "markdown",
   "metadata": {},
   "source": [
    ">### <span style='background : yellow' >TASK Run 0.2.0:</span> Jupyter interface options\n",
    "Select the cell below and execute it using the shortcut.\n",
    "To do so, press *simultaneously* the keys CTRL and ENTER."
   ]
  },
  {
   "cell_type": "code",
   "execution_count": null,
   "metadata": {},
   "outputs": [],
   "source": [
    "result = 5*4\n",
    "print(result)\n",
    "print(5*4)"
   ]
  },
  {
   "cell_type": "markdown",
   "metadata": {},
   "source": [
    "## 0.3 Python Syntax: *Talking* to computers\n",
    "Syntax describes how Python code must be written so that the computer understands it. Learning the syntax of Python is like learning a language in which commmunication with the computer (in this case with the Python interpreter) is possible. \n",
    "\n",
    "Computers can do certain tasks so much better than humans do (e.g. calculations), and are absolutely stupid with regard to many other things. In the 21st century programs, search engines, and digital assistants etc. have become much better at understanding humans. If you google \"3+5\" or \"three plus five\", you get in both cases the answer 8. Google understands both inputs because in the background there is a very complex program running that tries to interpret the input. This program is quite good at understanding human input and translating it into machine language, which finally is translated back into an input a human can understand. Thus, it adapts to human communication. We all know that the meaning of a spoken sentence depends on many factors (who says it, how is it said, to whom, why, in which context, irony, etc.). The sentence \"I will be there in 5 minutes.\" can mean very different things. \"Yes\" can mean many different things. \"No\" can man many different things.\n",
    "\n",
    "Python is fully deterministic and therefore very strict in terms of how the communication is defined. This is called *syntax*. If we do not follow the rules of the syntax, then the communication fails. If the used syntax is not understood, we will see an error message and the program is not executed.\n",
    "\n",
    "### 0.3.0 Example with correct syntax: the print command\n",
    "\n",
    "If we want to print out something on the screen using the print command, the syntax must follow some rules:\n",
    "- *print* is written in lowercase letters.\n",
    "- The argument, that we want to print, is after an opening round bracket *(* and before a closing round bracket *)*\n",
    "- There may be 1 or more arguments. There must be a comma between arguments.\n",
    "- Additional blank spaces are allowed before and after the brackets\n",
    "- Within the brackets, also new lines are allowed.\n",
    "- There is no other command in the same line of the closing bracket."
   ]
  },
  {
   "cell_type": "code",
   "execution_count": null,
   "metadata": {
    "scrolled": true
   },
   "outputs": [],
   "source": [
    "# Examples with correct syntax\n",
    "print(\"Hello World!\")"
   ]
  },
  {
   "cell_type": "code",
   "execution_count": null,
   "metadata": {},
   "outputs": [],
   "source": [
    "print  (  \"Hello World!\"  )"
   ]
  },
  {
   "cell_type": "code",
   "execution_count": null,
   "metadata": {},
   "outputs": [],
   "source": [
    "print( \n",
    "    \"Hello World!\"\n",
    "     )"
   ]
  },
  {
   "cell_type": "code",
   "execution_count": null,
   "metadata": {},
   "outputs": [],
   "source": [
    "print ( \n",
    "    \"Today\", \n",
    "    \"is the\",\n",
    "    \"best\",\n",
    "    \"Monday\",\n",
    "    \"of the week\"\n",
    "    \"!\")\n",
    "\n",
    "# The print command is a flexible command in the sense that it can take several arguments separated by commas.\n",
    "# Each argument will be printed one by one, and connected with a blank space."
   ]
  },
  {
   "cell_type": "markdown",
   "metadata": {},
   "source": [
    "### 0.3.1 Comments\n",
    "The code may consist exclusively of code written for the computer. However, not only computers will read the code, but humans as well. To make a code easier to understand, to add ideas and thoughts, mention problems etc. we add comments to the code which are completely ignored by Python."
   ]
  },
  {
   "cell_type": "code",
   "execution_count": null,
   "metadata": {},
   "outputs": [],
   "source": [
    "# This is a comment.\n",
    "# Comments start with a hashtag symbol.\n",
    "\n",
    "# Commands that are in a comment line will not be executed: print(\"This is not printed.\")"
   ]
  },
  {
   "cell_type": "code",
   "execution_count": null,
   "metadata": {
    "scrolled": true
   },
   "outputs": [],
   "source": [
    "print(\"Python ignores comments.\") # Comments can follow a command."
   ]
  },
  {
   "cell_type": "markdown",
   "metadata": {},
   "source": [
    "### 0.3.2 Wrong syntax leads to an error"
   ]
  },
  {
   "cell_type": "code",
   "execution_count": null,
   "metadata": {
    "scrolled": true
   },
   "outputs": [],
   "source": [
    "print(\"No error in line 1.\")\n",
    "PRINT(\"Uppercase PRINT is not understood by Python.\")\n",
    "print(\"No error in line 3.\")"
   ]
  },
  {
   "cell_type": "markdown",
   "metadata": {},
   "source": [
    ">*Code tasks* marked in magenta indicate that there is code to be written or modified. There will be often some additional comment with detailed instructions and the desired outcome. This sometimes requires minimal modification, and later will require writing several lines of code from scratch."
   ]
  },
  {
   "cell_type": "markdown",
   "metadata": {},
   "source": [
    ">### <span style='background : magenta' >TASK Code 0.3.2.0:</span> Write wrong code\n",
    "Execute *anything* in the cell below. You will realise, that it is very easy to generate \"code\" that causes an error.\n",
    "Suggestions to try:\n",
    "- three plus five\n",
    "- anything\n",
    "- does this cause an error?\n",
    "- ?\n",
    "- -\n",
    "- /"
   ]
  },
  {
   "cell_type": "code",
   "execution_count": null,
   "metadata": {},
   "outputs": [],
   "source": [
    "# Enter your code below this line. After execution, there should be an error message.\n",
    "\n",
    "\n"
   ]
  },
  {
   "cell_type": "markdown",
   "metadata": {},
   "source": [
    "Apparently, it is very easy to write code that leads to an error. The syntax is very strict and follows a clearly defined logic. We will get used to it. Don't get discouraged from error messages. Correcting mistakes (of any kind) in a code is absolutely normal and has its own name: bugfixing."
   ]
  },
  {
   "cell_type": "markdown",
   "metadata": {},
   "source": [
    "### 0.3.3 Correct syntax with wrong output\n",
    "We can have *bugs* in our code which do not lead to an error."
   ]
  },
  {
   "cell_type": "code",
   "execution_count": null,
   "metadata": {},
   "outputs": [],
   "source": [
    "# This is understood as text.\n",
    "print(\"3+5\")"
   ]
  },
  {
   "cell_type": "code",
   "execution_count": null,
   "metadata": {},
   "outputs": [],
   "source": [
    "# This is understood as text.\n",
    "print(\"three plus five\")"
   ]
  },
  {
   "cell_type": "code",
   "execution_count": null,
   "metadata": {
    "scrolled": true
   },
   "outputs": [],
   "source": [
    "# This is understood as the arithmetic operation of a sum.\n",
    "print(3+5)"
   ]
  },
  {
   "cell_type": "code",
   "execution_count": null,
   "metadata": {},
   "outputs": [],
   "source": [
    "# This is not understood at all and raises an error.\n",
    "print(three plus five)"
   ]
  },
  {
   "cell_type": "markdown",
   "metadata": {},
   "source": [
    "The above four cases look almost identical to a human. Each expression can be clearly identified as a sum of two integer numbers. If you were asked to *execute* 3+5, most likely your answer would be \"eight\" or \"8\".\n",
    "For Python, the four cases are clearly different.\n",
    "- \"3+5\" (in quotation marks): Just the characters and symbols are printed out, as if it was any text.\n",
    "- 3+5 (without quotation marks): This is apprently understood as a sum of integer numbers. First, the arithmetic operation is executed, then the result of this operation is printed out.\n",
    "- \"three plus five\" (in quotation marks): The characters are just printed out.\n",
    "- three plus five (without quotation marks): Raises a 'SyntaxError'. There are two problems with this input, which we will only understand better after we learned about variables. The first problem is, that the terms *three*, *plus*, and *five* are not defined and Python does not know what to do with them. The second problem is that the print command tries to understand the input as a combination of three arguments, which in that case must be separated by a comma. We will learn more about that later.\n",
    "\n",
    "**The idea of this lesson is to show that we must strictly follow the rules of the Python-specific syntax to make the computer process our input as intended. Programming can thus be understood as a translation of our intention or thought into Python code.**\n",
    "\n",
    "\n",
    "\n"
   ]
  },
  {
   "cell_type": "markdown",
   "metadata": {},
   "source": [
    "## 0.4 Variables\n",
    "### 0.4.0 Save and store information in a variable (like in a cell in MS Excel)\n",
    "Programming is usually about reading, writing and processing data. In our everydays life, data is usually stored in some file, e.g. a text document, a database with user settings how an applications should behave (e.g. dark mode on/off) or an image file (JPG, PNG, TIF, etc.). We will later learn how to work with files. Let's start with storing and modifying a text or a number that only exists during the execution of the program. To do so, we can assign a value (or text or other object) to a **variable**.\n",
    "\n",
    "This concept is similar to the abstract of variables in mathematics. Another analogy are the fields in Microsoft Excel: If you write e.g. the number 42.5 into the top left field of your spreadsheet, we can say that the we assigned the value 42.5 to the cell A1. In Python, A1 is the *variable name*, and 42.5 the value of the variable."
   ]
  },
  {
   "cell_type": "code",
   "execution_count": null,
   "metadata": {},
   "outputs": [],
   "source": [
    "# In Python, we use the equal sign (=) to assign a value to a variable\n",
    "# The name of the variable is on the left, the value we assign to it on the right.\n",
    "my_variable = \"Hello! \""
   ]
  },
  {
   "cell_type": "markdown",
   "metadata": {},
   "source": [
    "After execution of the last cell, no output is generated. This does not mean that nothing happened! In the background there was quite a lot of action going on with the outcome that we can now work with an object named *my_variable*.\n",
    "The content (value, data, information) stored in *my_variable* is the text \"Hello! \""
   ]
  },
  {
   "cell_type": "code",
   "execution_count": null,
   "metadata": {},
   "outputs": [],
   "source": [
    "# Print the value of the variable my_variable\n",
    "print(my_variable)"
   ]
  },
  {
   "cell_type": "code",
   "execution_count": null,
   "metadata": {},
   "outputs": [],
   "source": [
    "# We can now work with this variable. For example, we can \"multiply\" it.\n",
    "print(my_variable * 4)"
   ]
  },
  {
   "cell_type": "markdown",
   "metadata": {},
   "source": [
    "We can assign numbers to a variable and perform basic arithmetic operations."
   ]
  },
  {
   "cell_type": "code",
   "execution_count": null,
   "metadata": {},
   "outputs": [],
   "source": [
    "var1 = 2\n",
    "var2 = 5\n",
    "print(var1 + var2)"
   ]
  },
  {
   "cell_type": "code",
   "execution_count": null,
   "metadata": {
    "scrolled": true
   },
   "outputs": [],
   "source": [
    "var3 = var2 - var1\n",
    "print(var3)"
   ]
  },
  {
   "cell_type": "code",
   "execution_count": null,
   "metadata": {},
   "outputs": [],
   "source": [
    "x = 3\n",
    "print(x * 4)"
   ]
  },
  {
   "cell_type": "markdown",
   "metadata": {},
   "source": [
    "A variable is called a *variable* because we can modify the data, value or content assigned to it:"
   ]
  },
  {
   "cell_type": "code",
   "execution_count": null,
   "metadata": {
    "scrolled": true
   },
   "outputs": [],
   "source": [
    "favourite_colour = \"-\"\n",
    "favourite_colour = \"Blue\"\n",
    "print(\"My favourite colour is\", favourite_colour)\n",
    "\n",
    "favourite_colour = \"Green\"\n",
    "print(\"My favourite colour is\", favourite_colour)"
   ]
  },
  {
   "cell_type": "markdown",
   "metadata": {},
   "source": [
    "Lines 3 and 6 are identical, and both access the variable *favourite_colour*. But the content is not constant and was changed during execution. \n",
    "- In line 1, the variable *favourite_colour* was generated and assigned the character \"-\".\n",
    "- In line 2, its content was changed to \"Blue\".\n",
    "- In line 5, its content was changed to \"Green\""
   ]
  },
  {
   "cell_type": "markdown",
   "metadata": {},
   "source": [
    "### 0.4.1 Allowed variable names\n",
    "- Variable names must consist exclusively of letters (a-z, A-Z), numbers (0-9) or an underscore (_).\n",
    "- Variable names may not begin with a number. \n",
    "- Apart from the underscore, any special character is forbidden, including :'\",<>/?|\\!@#%^&*~-+$\n",
    "- Variables may not be identical to any keyword reserved for the Python syntax (e.g. for, with, is, in,...)."
   ]
  },
  {
   "cell_type": "code",
   "execution_count": null,
   "metadata": {},
   "outputs": [],
   "source": [
    "# Typical allowed names:\n",
    "a = \"OK\"\n",
    "b = \"OK\"\n",
    "c1 = \"OK\"\n",
    "c2 = \"OK\"\n",
    "pi = 3.14159265358979"
   ]
  },
  {
   "cell_type": "code",
   "execution_count": null,
   "metadata": {},
   "outputs": [],
   "source": [
    "# Allowed names with underscore:\n",
    "my_number = 21\n",
    "_my_number_ = 4"
   ]
  },
  {
   "cell_type": "code",
   "execution_count": null,
   "metadata": {},
   "outputs": [],
   "source": [
    "q = \"Is Python case sensitive?\"\n",
    "Q = \"Yes.\"\n",
    "print(q)\n",
    "print(Q)"
   ]
  },
  {
   "cell_type": "code",
   "execution_count": null,
   "metadata": {},
   "outputs": [],
   "source": [
    "MY_NUMBER = 42\n",
    "my_number, MY_NUMBER"
   ]
  },
  {
   "cell_type": "markdown",
   "metadata": {},
   "source": [
    "Examples of forbidden variable names. Each line will cause a syntax error."
   ]
  },
  {
   "cell_type": "code",
   "execution_count": null,
   "metadata": {},
   "outputs": [],
   "source": [
    "$var = \"Not OK\""
   ]
  },
  {
   "cell_type": "code",
   "execution_count": null,
   "metadata": {},
   "outputs": [],
   "source": [
    "@var = \"Not OK\""
   ]
  },
  {
   "cell_type": "markdown",
   "metadata": {},
   "source": [
    "The following keywords may NOT be used as variable names. Keywords that are *attractive* variable names are marked."
   ]
  },
  {
   "cell_type": "code",
   "execution_count": null,
   "metadata": {},
   "outputs": [],
   "source": [
    "Keywords = \"\"\"\n",
    "False\n",
    "None\n",
    "True\n",
    "and\n",
    "as\n",
    "assert\n",
    "break\n",
    "class\n",
    "continue\n",
    "def     <<<\n",
    "del\n",
    "elif\n",
    "else\n",
    "except\n",
    "finally\n",
    "for\n",
    "from    <<<\n",
    "global\n",
    "if\n",
    "import\n",
    "in       <<<\n",
    "is\n",
    "lambda  <<< \n",
    "nonlocal\n",
    "not\n",
    "or\n",
    "pass\n",
    "raise\n",
    "return\n",
    "try   <<< \n",
    "while\n",
    "with\n",
    "yield\n",
    "\"\"\""
   ]
  },
  {
   "cell_type": "markdown",
   "metadata": {},
   "source": [
    "If you try defining a variable with a name that is among the above keywords, you get a syntax error. Note that Jupyter automatically highlights keywords in **bold green**."
   ]
  },
  {
   "cell_type": "code",
   "execution_count": null,
   "metadata": {
    "scrolled": true
   },
   "outputs": [],
   "source": [
    "try = 4"
   ]
  },
  {
   "cell_type": "code",
   "execution_count": null,
   "metadata": {},
   "outputs": [],
   "source": [
    "from = \"Planet Earth\""
   ]
  },
  {
   "cell_type": "code",
   "execution_count": null,
   "metadata": {
    "scrolled": true
   },
   "outputs": [],
   "source": [
    "def = \"Important definition\""
   ]
  },
  {
   "cell_type": "code",
   "execution_count": null,
   "metadata": {},
   "outputs": [],
   "source": [
    "# As Python is case-sensitive, there is an easy solution:\n",
    "Try = 4\n",
    "From = \"Planet Earth\"\n",
    "Def = \"Important Definition\""
   ]
  },
  {
   "cell_type": "code",
   "execution_count": null,
   "metadata": {},
   "outputs": [],
   "source": [
    "# Another alternative\n",
    "try_ = 4\n",
    "from_ = \"Planet Earth\"\n",
    "def_ = \"Important Definition\""
   ]
  },
  {
   "cell_type": "code",
   "execution_count": null,
   "metadata": {},
   "outputs": [],
   "source": [
    "# Nevertheless, it is recommended to avoid any similarity with keywords and use synonyms instead.\n",
    "attempt = 4\n",
    "origin = \"Planet Earth\"\n",
    "my_def_topic = \"Important Definition\""
   ]
  },
  {
   "cell_type": "markdown",
   "metadata": {},
   "source": [
    "## 0.5 Data types: string\n",
    "A string is some text of arbitrary length. Unicode characters with UTF-8 encoding are supported, which means e.g. that any character relevant in Europe and science is supported.<br>\n",
    "To define a string in Python, we place a string of characters within quotation marks. 'Single quotation marks' and \"double quotation marks\" are allowed. Quotation marks may not be the curly ones."
   ]
  },
  {
   "cell_type": "code",
   "execution_count": null,
   "metadata": {},
   "outputs": [],
   "source": [
    "s1 = 'I am a string in single quotation marks.'\n",
    "print(s1)"
   ]
  },
  {
   "cell_type": "code",
   "execution_count": null,
   "metadata": {
    "scrolled": true
   },
   "outputs": [],
   "source": [
    "s2 = \"I am a string in double quotation marks.\"\n",
    "print(s2)"
   ]
  },
  {
   "cell_type": "markdown",
   "metadata": {},
   "source": [
    "There are symbols that are similar to quotation marks which cannot be used to mark the start and end of a string:"
   ]
  },
  {
   "cell_type": "code",
   "execution_count": null,
   "metadata": {},
   "outputs": [],
   "source": [
    "not_a_string = `Backticks cause an error`"
   ]
  },
  {
   "cell_type": "code",
   "execution_count": null,
   "metadata": {},
   "outputs": [],
   "source": [
    "not_a_string = ”Curly quotation marks cause an error”"
   ]
  },
  {
   "cell_type": "code",
   "execution_count": null,
   "metadata": {},
   "outputs": [],
   "source": [
    "# We can define multi-line strings using triple quotation marks\n",
    "\n",
    "LongText = \"\"\"Dear programmer,\n",
    "thank you for choosing Python.\n",
    "This is an excellent choice to get started with programming.\n",
    "Yours sincerly,\n",
    "Python\"\"\"\n",
    "\n",
    "print(LongText)"
   ]
  },
  {
   "cell_type": "code",
   "execution_count": null,
   "metadata": {},
   "outputs": [],
   "source": [
    "# Shortcut for print:\n",
    "# Jupyter will always show the so-called representation of the last \"command\" or input of a block.\n",
    "\n",
    "s3 = \"This is a string. The quotation marks are not part of the string.\"\n",
    "s3"
   ]
  },
  {
   "cell_type": "code",
   "execution_count": null,
   "metadata": {
    "scrolled": true
   },
   "outputs": [],
   "source": [
    "# The output is slightly different to what we would get from the print command. \n",
    "# First, left from the output we will see Out[x]:, where x is the ID of the output.\n",
    "# Second, the representation is less formatted, e.g. strings contain the quotes.\n",
    "s4 = \"This is a string.\" \n",
    "print(s4)\n",
    "s4"
   ]
  },
  {
   "cell_type": "code",
   "execution_count": null,
   "metadata": {
    "scrolled": true
   },
   "outputs": [],
   "source": [
    "s5 = \"'What's up with apostrophes?' she asked.\"\n",
    "print(s5)"
   ]
  },
  {
   "cell_type": "markdown",
   "metadata": {},
   "source": [
    "In the above example, we might prefer double quotation marks. However, if we want to use quotation marks as string characters and not as indicator for the start and end of a string, we can use the *escape* character (\\\\, a backslash)."
   ]
  },
  {
   "cell_type": "code",
   "execution_count": null,
   "metadata": {},
   "outputs": [],
   "source": [
    "s6 = \"\\\"What's up with apostrophes?\\\" she asked.\"\n",
    "print(s6)"
   ]
  },
  {
   "cell_type": "markdown",
   "metadata": {},
   "source": [
    "The escape character is used in several ways:\n",
    "- \\n new line, line break\n",
    "- \\t tab\n",
    "- \\\\\\\\ double backslash to print one backslash\n",
    "- \\' single quote\n",
    "- \\\" double quote"
   ]
  },
  {
   "cell_type": "code",
   "execution_count": null,
   "metadata": {
    "scrolled": true
   },
   "outputs": [],
   "source": [
    "escape_example = \"1\\n2\\tis prime\\n3\\tis prime\\n4\\n5\\tis prime\\n...\"\n",
    "print(escape_example)"
   ]
  },
  {
   "cell_type": "markdown",
   "metadata": {},
   "source": [
    "## 0.6 Data types: Integer numbers\n",
    "Integer numbers (ℤ, German: Ganze Zahlen) are defined just like we use integers in everyday's life. We may not use quotation marks, because then a number is interpreted like a text, but not as a number."
   ]
  },
  {
   "cell_type": "code",
   "execution_count": null,
   "metadata": {},
   "outputs": [],
   "source": [
    "my_integer = 1\n",
    "my_integer"
   ]
  },
  {
   "cell_type": "code",
   "execution_count": null,
   "metadata": {
    "scrolled": true
   },
   "outputs": [],
   "source": [
    "# Negative numbers\n",
    "-5"
   ]
  },
  {
   "cell_type": "code",
   "execution_count": null,
   "metadata": {},
   "outputs": [],
   "source": [
    "# Sum of negative numbers\n",
    "neg1 = -3\n",
    "neg2 = -5\n",
    "neg3 = -7\n",
    "result = neg1 + neg2 + neg3\n",
    "result"
   ]
  },
  {
   "cell_type": "code",
   "execution_count": null,
   "metadata": {},
   "outputs": [],
   "source": [
    "# You can use _ in long numbers for better readability\n",
    "# The underscores are ignored in integer numbers.\n",
    "32_123_456_789"
   ]
  },
  {
   "cell_type": "code",
   "execution_count": null,
   "metadata": {},
   "outputs": [],
   "source": [
    "# Pythagorean theorem. a and b are the shorter edges of a right triangle.\n",
    "a = 3\n",
    "b = 4\n",
    "\n",
    "csquared = a*a + b*b\n",
    "csquared"
   ]
  },
  {
   "cell_type": "code",
   "execution_count": null,
   "metadata": {},
   "outputs": [],
   "source": [
    "# Division\n",
    "# If you want to divide two integers and get an integer as result, you can use a double backslash //\n",
    "# German: 10 geteilt durch 5 ist 2.\n",
    "# English: 10 divided by 5 equals 2.\n",
    "result = 10//5\n",
    "result"
   ]
  },
  {
   "cell_type": "code",
   "execution_count": null,
   "metadata": {},
   "outputs": [],
   "source": [
    "# Exponentiation\n",
    "# German: 9 ist 3 hoch 2. 9 ist das Ergebnis \n",
    "# English: 9 is 3 to the power of 2.\n",
    "\n",
    "resultA = 3**2\n",
    "print(resultA)"
   ]
  },
  {
   "cell_type": "code",
   "execution_count": null,
   "metadata": {},
   "outputs": [],
   "source": [
    "# There are (at least) two ways to express exponentiation.\n",
    "resultB = pow(3,2)\n",
    "print(resultB)"
   ]
  },
  {
   "cell_type": "code",
   "execution_count": null,
   "metadata": {},
   "outputs": [],
   "source": [
    "OneMillion = 10**6\n",
    "OneMillion"
   ]
  },
  {
   "cell_type": "markdown",
   "metadata": {},
   "source": [
    "## 0.7 Start coding and playing\n",
    "Please run, modify and create Python code to get familiar with the initial concepts. If something is not clear, please ask your neighbour or the lecturer."
   ]
  },
  {
   "cell_type": "markdown",
   "metadata": {},
   "source": [
    ">### <span style='background : yellow' >TASK Run 0.7.0:</span> Predict the result\n",
    "Remember, Python is fully deterministic and the outcome of the following lines of code can be exactly predicted.\n",
    "1. Read the code\n",
    "2. Predict the result of the execution of the code\n",
    "3. Execute the code\n",
    "4. Make sure that you understand the outcome of the code"
   ]
  },
  {
   "cell_type": "code",
   "execution_count": null,
   "metadata": {},
   "outputs": [],
   "source": [
    "# Will there be gaps/blank spaces between the arguments?\n",
    "print(\"Hello\",\"World\",\"!\",\"!\")"
   ]
  },
  {
   "cell_type": "code",
   "execution_count": null,
   "metadata": {},
   "outputs": [],
   "source": [
    "\"Hello World ! !\""
   ]
  },
  {
   "cell_type": "code",
   "execution_count": null,
   "metadata": {},
   "outputs": [],
   "source": [
    "a1 = \"Hello\"\n",
    "a2 = \"Programmers\"\n",
    "print(a1,a2)"
   ]
  },
  {
   "cell_type": "code",
   "execution_count": null,
   "metadata": {},
   "outputs": [],
   "source": [
    "b1 = 4\n",
    "b2 = 5\n",
    "b1*b2"
   ]
  },
  {
   "cell_type": "code",
   "execution_count": null,
   "metadata": {},
   "outputs": [],
   "source": [
    "# Python can handle REALLY HUGE numbers.\n",
    "Googol = 10**100\n",
    "print(Googol)"
   ]
  },
  {
   "cell_type": "code",
   "execution_count": null,
   "metadata": {},
   "outputs": [],
   "source": [
    "GoogolPlusOne = Googol + 1\n",
    "GoogolPlusOne"
   ]
  },
  {
   "cell_type": "code",
   "execution_count": null,
   "metadata": {},
   "outputs": [],
   "source": [
    "10**1234 + 1"
   ]
  },
  {
   "cell_type": "markdown",
   "metadata": {},
   "source": [
    ">### <span style='background : magenta' >TASK Code 0.7.1:</span> Fix the code\n",
    "1. Run the code below, which will lead to an error.\n",
    "2. Fix the code so that it runs without error"
   ]
  },
  {
   "cell_type": "code",
   "execution_count": null,
   "metadata": {
    "scrolled": true
   },
   "outputs": [],
   "source": [
    "print(\"No error in line 1.\")\n",
    "PRINT(\"Uppercase PRINT is not understood by Python.\")\n",
    "print(\"No error in line 3.\")"
   ]
  },
  {
   "cell_type": "markdown",
   "metadata": {},
   "source": [
    ">### <span style='background : magenta' >TASK Code 0.7.2:</span> Fix the code\n",
    "1. Run the code below, which will lead to an error.\n",
    "2. Fix the code. Correctly assign the result of the sum to the variable *result*. Print the result on the screen.\n",
    "\n",
    "At school we learned that the *syntax* for a simple sum is for example<br>\n",
    "3 + 4 = 7<br>\n",
    "Typically, left from the equal sign there are summands separated by a plus symbol, and on the right there is an expression that equals the sum on the left.\n",
    "\n",
    "This syntax is **not valid** for Python and raises an error because Python understand, that you want to create a variable with the name \"3 + 4\", which is a forbidden name because of several reasons (variables may not start with a number, blank spaces are not allowed, the plus sign is not allowed)."
   ]
  },
  {
   "cell_type": "code",
   "execution_count": null,
   "metadata": {
    "scrolled": true
   },
   "outputs": [],
   "source": [
    "3 + 4 = result"
   ]
  },
  {
   "cell_type": "markdown",
   "metadata": {},
   "source": [
    "An error is raised because the equal sign in Python is understood as variable assignment. In the above example, Python tries to generate a variable with the label \"3 + 4\" and assign the value 7 to it. \"3 + 4\" is a forbidden variable name."
   ]
  },
  {
   "cell_type": "markdown",
   "metadata": {},
   "source": [
    ">### <span style='background : magenta' >TASK Code 0.7.3:</span> Fix the code"
   ]
  },
  {
   "cell_type": "code",
   "execution_count": null,
   "metadata": {
    "scrolled": true
   },
   "outputs": [],
   "source": [
    "Print(\"Hello World!\")"
   ]
  },
  {
   "cell_type": "code",
   "execution_count": null,
   "metadata": {
    "scrolled": true
   },
   "outputs": [],
   "source": [
    "pint(\"Beer\")"
   ]
  },
  {
   "cell_type": "code",
   "execution_count": null,
   "metadata": {},
   "outputs": [],
   "source": [
    "print(\"Hello\") print(\"Rocks!\")"
   ]
  },
  {
   "cell_type": "code",
   "execution_count": null,
   "metadata": {
    "scrolled": true
   },
   "outputs": [],
   "source": [
    "print(\"Good afternoon\"\n",
    "\n",
    "print(\"Minerals!\")"
   ]
  },
  {
   "cell_type": "code",
   "execution_count": null,
   "metadata": {},
   "outputs": [],
   "source": [
    "RESULT10 = 2*2*2*2*2*2*2*2*2*2\n",
    "print(result10)"
   ]
  },
  {
   "cell_type": "code",
   "execution_count": null,
   "metadata": {
    "scrolled": true
   },
   "outputs": [],
   "source": [
    "result10 = 2**10\n",
    "print(Result10)"
   ]
  },
  {
   "cell_type": "markdown",
   "metadata": {},
   "source": [
    ">### <span style='background : magenta' >TASK Code 0.7.4:</span> Valid and invalid variable names\n",
    "Comment out those lines with an invalid variable name. Place a hashtag # at the beginning of those lines."
   ]
  },
  {
   "cell_type": "code",
   "execution_count": null,
   "metadata": {},
   "outputs": [],
   "source": [
    "3kings = \"OK?\""
   ]
  },
  {
   "cell_type": "code",
   "execution_count": null,
   "metadata": {},
   "outputs": [],
   "source": [
    "_3queens = \"OK?\""
   ]
  },
  {
   "cell_type": "code",
   "execution_count": null,
   "metadata": {},
   "outputs": [],
   "source": [
    "three emperors = \"OK?\""
   ]
  },
  {
   "cell_type": "code",
   "execution_count": null,
   "metadata": {},
   "outputs": [],
   "source": [
    "three_princesses = \"OK?\""
   ]
  },
  {
   "cell_type": "code",
   "execution_count": null,
   "metadata": {},
   "outputs": [],
   "source": [
    "_3_d_u_c_h_e_s_s_e_s = \"OK?\""
   ]
  },
  {
   "cell_type": "code",
   "execution_count": null,
   "metadata": {},
   "outputs": [],
   "source": [
    "_3_duke$ = \"OK?\""
   ]
  },
  {
   "cell_type": "markdown",
   "metadata": {},
   "source": [
    ">### <span style='background : magenta' >TASK Code 0.7.5:</span> Valid variable names to avoid\n",
    "Some characters look very similar and are difficult to distinguish. Read the following variable names and identify the letters and numbers. Print out the value of the variable."
   ]
  },
  {
   "cell_type": "code",
   "execution_count": null,
   "metadata": {},
   "outputs": [],
   "source": [
    "# example\n",
    "GOOGLE = \"a search engine\"\n",
    "print(GOOGLE)"
   ]
  },
  {
   "cell_type": "code",
   "execution_count": null,
   "metadata": {},
   "outputs": [],
   "source": [
    "google = \"a search engine\"\n"
   ]
  },
  {
   "cell_type": "code",
   "execution_count": null,
   "metadata": {},
   "outputs": [],
   "source": [
    "lO = \"one zero, or L zero, or L O, or one O?\"\n"
   ]
  },
  {
   "cell_type": "code",
   "execution_count": null,
   "metadata": {},
   "outputs": [],
   "source": [
    "l1 = \"one one, or one L, or L one, or L L?\"\n"
   ]
  },
  {
   "cell_type": "code",
   "execution_count": null,
   "metadata": {},
   "outputs": [],
   "source": [
    "O0 = \"O zero, difficult to distinguish\"\n"
   ]
  },
  {
   "cell_type": "code",
   "execution_count": null,
   "metadata": {},
   "outputs": [],
   "source": [
    "Il1 = \"capital I, lowercase L, number 1\"\n"
   ]
  },
  {
   "cell_type": "code",
   "execution_count": null,
   "metadata": {},
   "outputs": [],
   "source": [
    "Internal_Organisation = \"Example where capital I and capital O are easily recognised.\"\n"
   ]
  },
  {
   "cell_type": "markdown",
   "metadata": {},
   "source": [
    "The message is clear: In *meaningless* variable names you should avoid lowercase L, uppercase O, and uppercase letter I. Better use words that give the variable a name from which the meaning can be derived or guessed."
   ]
  },
  {
   "cell_type": "markdown",
   "metadata": {},
   "source": [
    ">### <span style='background : magenta' >TASK Code 0.7.6:</span> Define variables\n",
    "Define variables with the names favourite_element, favourite_number, favourite_mineral, favourite_rock, favourite_geological_period"
   ]
  },
  {
   "cell_type": "code",
   "execution_count": null,
   "metadata": {},
   "outputs": [],
   "source": [
    "favourite_element = "
   ]
  },
  {
   "cell_type": "markdown",
   "metadata": {},
   "source": [
    "## 0.8 Recommended variable names\n",
    "There is a *pythonic* recommendation of how use uppercase/lowercase letters and underscores in your variable names:\n",
    "- Variable names should be lowercase, with words separated by underscores as necessary to improve readability.\n",
    "- Source: https://peps.python.org/pep-0008/#naming-conventions\n",
    "- You are of course not obliged to follow this convention.\n",
    "- **It is OK to have your own style. Whatever it is, be consistent!**\n",
    "\n",
    "Examples of consistent use:\n",
    "```python\n",
    "my_style = \"lowercase letters, words separated by underscores\"\n",
    "coordinates_latitude = 53.1123874\n",
    "coordinates_longitude = 8.8574972\n",
    "pi_constant = 3.14159\n",
    "```\n",
    "\n",
    "It is recommended to use variable names that can be understood by anyone reading the code."
   ]
  },
  {
   "cell_type": "markdown",
   "metadata": {},
   "source": [
    "***\n",
    "## END OF NOTEBOOK 0\n",
    "***"
   ]
  }
 ],
 "metadata": {
  "kernelspec": {
   "display_name": "Python 3 (ipykernel)",
   "language": "python",
   "name": "python3"
  },
  "language_info": {
   "codemirror_mode": {
    "name": "ipython",
    "version": 3
   },
   "file_extension": ".py",
   "mimetype": "text/x-python",
   "name": "python",
   "nbconvert_exporter": "python",
   "pygments_lexer": "ipython3",
   "version": "3.10.11"
  }
 },
 "nbformat": 4,
 "nbformat_minor": 4
}
