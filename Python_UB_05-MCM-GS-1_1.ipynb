{
 "cells": [
  {
   "cell_type": "markdown",
   "metadata": {},
   "source": [
    "**<span style='color: #FF0000'>EPyC</span> : Explorative Python Course** by Paul Klar (paul.klar@uni-bremen.de) is licensed under CC BY 4.0\n",
    "\n",
    "This course was developed at the Faculty of Geosciences, University of Bremen, Germany, in 2022, 2023 and 2024.\n",
    "\n",
    "Notebook Version: 2024.02.19"
   ]
  },
  {
   "cell_type": "markdown",
   "metadata": {},
   "source": [
    "# Topics of Notebook 1: \n",
    "- functions, keywords, help\n",
    "- data types\n",
    "- comparisons and if statements"
   ]
  },
  {
   "cell_type": "markdown",
   "metadata": {},
   "source": [
    "***\n",
    "## 1.0 Summary of Notebook 0\n",
    "- We must strictly follow the syntax of Python. Otherwise the code is not executed at all or at least not executed as intended"
   ]
  },
  {
   "cell_type": "code",
   "execution_count": null,
   "metadata": {},
   "outputs": [],
   "source": [
    "# Example of correct syntax:\n",
    "print(\"Hello programmers!\")"
   ]
  },
  {
   "cell_type": "markdown",
   "metadata": {},
   "source": [
    "- We can assign values to variables similar to assigning a value to a cell in Excel."
   ]
  },
  {
   "cell_type": "code",
   "execution_count": null,
   "metadata": {},
   "outputs": [],
   "source": [
    "text1 = \"Hello\"\n",
    "text2 = \"Programmers\"\n",
    "print(text1, text2)"
   ]
  },
  {
   "cell_type": "markdown",
   "metadata": {},
   "source": [
    "- We learned about two data types so far:\n",
    "    - strings (text or, more general, a combination of characters)\n",
    "    - integer numbers (positive and negative numbers)"
   ]
  },
  {
   "cell_type": "code",
   "execution_count": null,
   "metadata": {},
   "outputs": [],
   "source": [
    "var_string = \"Python was invented by Guido van Rossum and published first in 1991.\"\n",
    "var_string"
   ]
  },
  {
   "cell_type": "code",
   "execution_count": null,
   "metadata": {},
   "outputs": [],
   "source": [
    "favourite_element = \"molybdenum\"\n",
    "favourite_mineral = \"mullite\"\n",
    "favourite_rock = \"basalt\"\n",
    "favourite_period = \"Permian\"\n",
    "favourite_number = 42"
   ]
  },
  {
   "cell_type": "markdown",
   "metadata": {},
   "source": [
    "- Just like with the general syntax, we must follow some rules when giving a name to a variable.\n",
    "    - only letters, numbers and underscores\n",
    "    - must start with a letter or an underscore"
   ]
  },
  {
   "cell_type": "code",
   "execution_count": null,
   "metadata": {},
   "outputs": [],
   "source": [
    "_valid_variable_name_0815 = 815\n",
    "another_valid_one = 1\n",
    "_valid_variable_name_0815 + another_valid_one"
   ]
  },
  {
   "cell_type": "markdown",
   "metadata": {},
   "source": [
    "***\n",
    "## 1.1 Python functions\n",
    "## 1.1.0 print function\n",
    "We have not yet learned many functions, the most applied one so far is *print*. <br>\n",
    "If we think about it in detail, we used this function in different ways:"
   ]
  },
  {
   "cell_type": "code",
   "execution_count": null,
   "metadata": {},
   "outputs": [],
   "source": [
    "# Print out a string/text\n",
    "print(\"Hello\")"
   ]
  },
  {
   "cell_type": "code",
   "execution_count": null,
   "metadata": {},
   "outputs": [],
   "source": [
    "# Print out more than one string:\n",
    "print(\"Hello\", \"World\",\"!\")"
   ]
  },
  {
   "cell_type": "code",
   "execution_count": null,
   "metadata": {},
   "outputs": [],
   "source": [
    "# Print out a number\n",
    "print(3)"
   ]
  },
  {
   "cell_type": "code",
   "execution_count": null,
   "metadata": {},
   "outputs": [],
   "source": [
    "# Print out the result of an arithmetic operation\n",
    "print(3+5)"
   ]
  },
  {
   "cell_type": "code",
   "execution_count": null,
   "metadata": {},
   "outputs": [],
   "source": [
    "# Print out the value of a variable, which is a string\n",
    "text = \"Hello World !\"\n",
    "print(text)"
   ]
  },
  {
   "cell_type": "code",
   "execution_count": null,
   "metadata": {},
   "outputs": [],
   "source": [
    "# Print out the value of a variable, which is a number\n",
    "number = 42\n",
    "print(42)"
   ]
  },
  {
   "cell_type": "markdown",
   "metadata": {},
   "source": [
    "This is somewhat in contradiction to the aforementioned statement, that a precisely defined syntax must be followed. In all cases, the definition of the functions is followed because Python has a quite user-friendly implementation. In the background, there are many steps which in the case of *3+5* realise that this is a mathematical expression, which is then evaluated and the result is transformed to a string."
   ]
  },
  {
   "cell_type": "markdown",
   "metadata": {},
   "source": [
    "### 1.1.1 Keyword arguments of the print function\n",
    "We can modify the behaviour of the print function using the function-specific keywords *sep* and *end*:"
   ]
  },
  {
   "cell_type": "code",
   "execution_count": null,
   "metadata": {},
   "outputs": [],
   "source": [
    "# The sep keyword is used as final argument like a variable assignment within the function.\n",
    "# In this example, we assign the string \" \" (empty space) to the keyword sep, which is the default value.\n",
    "print(\"Hello\",\"World\",\"!\", sep=\" \")"
   ]
  },
  {
   "cell_type": "code",
   "execution_count": null,
   "metadata": {},
   "outputs": [],
   "source": [
    "# In this example, we assign the string \"  <>  \" to the keyword sep\n",
    "print(\"Hello\",\"World\",\"!\", sep=\"  <>  \")"
   ]
  },
  {
   "cell_type": "code",
   "execution_count": null,
   "metadata": {},
   "outputs": [],
   "source": [
    "# We can remove any separation string between the arguments by using sep=\"\"\n",
    "print(\"Hello\",\"World\",\"!\", sep=\"\")"
   ]
  },
  {
   "cell_type": "code",
   "execution_count": null,
   "metadata": {},
   "outputs": [],
   "source": [
    "print(6,3,7,3, sep=\"\")"
   ]
  },
  {
   "cell_type": "code",
   "execution_count": null,
   "metadata": {},
   "outputs": [],
   "source": [
    "# The keyword end is used to define which string is automatically added to the end of each print statement.\n",
    "print(\"Wow\", end=\"!\")"
   ]
  },
  {
   "cell_type": "code",
   "execution_count": null,
   "metadata": {},
   "outputs": [],
   "source": [
    "# By default, there is a newline character \\n\n",
    "print(\"Line 1\")\n",
    "print(\"Line 2\")\n",
    "print(\"Line 3\", end=\"\\n\")\n",
    "print(\"Line 4\", end=\"\\n\")"
   ]
  },
  {
   "cell_type": "code",
   "execution_count": null,
   "metadata": {},
   "outputs": [],
   "source": [
    "# We can avoid the line break with end=\"\".\n",
    "print(\"Line 1\", end=\"\")\n",
    "print(\"Line 2\", end=\"\")\n",
    "print(\"Line 3\", end=\"\")\n",
    "print(\"Line 4\", end=\"\")"
   ]
  },
  {
   "cell_type": "markdown",
   "metadata": {},
   "source": [
    "Note that the values/strings to be printed out do not have a keyword.\n",
    "This does not work:\n",
    "```python\n",
    "print(value=\"Hello Programmers!\")\n",
    "```\n",
    "\n",
    "If you want to read the official documentation and description of the print function, please go to:\n",
    "https://docs.python.org/3.11/library/functions.html?highlight=print#print\n",
    "\n",
    "However, there is an easier, more accessible way to see the description of a function using the help function."
   ]
  },
  {
   "cell_type": "markdown",
   "metadata": {},
   "source": [
    "### 1.1.2 help!\n",
    "If you need help on how a certain function is used, you might consider using google (\"description python print\") or your other favourite search engine. However, there are two **much faster** ways based on an implemented help function."
   ]
  },
  {
   "cell_type": "code",
   "execution_count": null,
   "metadata": {},
   "outputs": [],
   "source": [
    "help(print)"
   ]
  },
  {
   "cell_type": "markdown",
   "metadata": {},
   "source": [
    "- The first line describes where the print module is defined. This is not relevant for us now.\n",
    "- Then there is the shortest way shown how to use the function: print(...)\n",
    "- In the next line, the function structure with all possible keywords is shown and what are the default values.\n",
    "- Above we introduced sep and end.\n",
    "- Keywords file and flush are not covered in this introduction, but this help output is a starting point if you are more interested in these options.\n",
    "- The exact meaning of sys.stdout depends on your operating system and how Python is running. Here, it effectively points to the text block below a Jupyter notebook cell, which is why the print function leads to text below the cell."
   ]
  },
  {
   "cell_type": "markdown",
   "metadata": {},
   "source": [
    "The help function allows only one argument. This argument is assigned the keyword *request*. We may thus also use the function like this, which is equivalent to the above use of the function:"
   ]
  },
  {
   "cell_type": "code",
   "execution_count": null,
   "metadata": {
    "scrolled": true,
    "tags": []
   },
   "outputs": [],
   "source": [
    "help(request=print)"
   ]
  },
  {
   "cell_type": "markdown",
   "metadata": {},
   "source": [
    "### 1.1.3 pow\n",
    "Let's have a look at the *pow* function."
   ]
  },
  {
   "cell_type": "code",
   "execution_count": null,
   "metadata": {
    "scrolled": true
   },
   "outputs": [],
   "source": [
    "help(request=pow)"
   ]
  },
  {
   "cell_type": "markdown",
   "metadata": {},
   "source": [
    "From this we can see that we must provide at least two arguments: base and exp."
   ]
  },
  {
   "cell_type": "code",
   "execution_count": null,
   "metadata": {},
   "outputs": [],
   "source": [
    "# Default order: first argument is the base, second argument is the exponent.\n",
    "pow(5,2)"
   ]
  },
  {
   "cell_type": "code",
   "execution_count": null,
   "metadata": {},
   "outputs": [],
   "source": [
    "5**2"
   ]
  },
  {
   "cell_type": "code",
   "execution_count": null,
   "metadata": {},
   "outputs": [],
   "source": [
    "# Explicit use of keyword arguments\n",
    "pow(base=5, exp=2)"
   ]
  },
  {
   "cell_type": "code",
   "execution_count": null,
   "metadata": {},
   "outputs": [],
   "source": [
    "# If you use keywords explicitly, you may change the order.\n",
    "pow(exp=2, base=5)\n",
    "\n",
    "# As there is no obvious advantage of changing the order of keywords, \n",
    "# it is highly recommended to stick to the default order to avoid potential confusion."
   ]
  },
  {
   "cell_type": "markdown",
   "metadata": {},
   "source": [
    "A third argument (keyword mod) is set by default to *None*. If *mod* is set to some integer number, the result will be divided by this number and the remainder of this division is the result. If you are interested in modular arithmetics, feel free to find out why pow(5,2,7) == 5**2 % 7 == 4 is True.\n",
    "\n",
    "Modular arithmetics plays an important role in computer science and cryptography. If you know that 4 PM and 16:00 o'clock is the same, you already know the basics of modular arithmetics."
   ]
  },
  {
   "cell_type": "code",
   "execution_count": null,
   "metadata": {},
   "outputs": [],
   "source": [
    "16%12 == 4%12"
   ]
  },
  {
   "cell_type": "markdown",
   "metadata": {},
   "source": [
    "However, for some functions, the parameters may not be explicitly set with a keyword and the meaning of the variable is only based on its position in the list of arguments.\n",
    "In the definition of the function, the list of parameters ends with a slash '/'. This is the case for, e.g., the function abs."
   ]
  },
  {
   "cell_type": "code",
   "execution_count": null,
   "metadata": {
    "tags": []
   },
   "outputs": [],
   "source": [
    "help(abs)"
   ]
  },
  {
   "cell_type": "markdown",
   "metadata": {},
   "source": [
    "***\n",
    "## 1.2 Data types\n",
    "\n",
    "\n",
    "## 1.2.0 floating point numbers (decimal numbers)\n",
    "By default, Python supports integer numbers (0, -1, 1, -2, 2, ...), \"real numbers\" (3.1415926535, 1.41421356, ...) and \"complex numbers\" (1+1i, e^(2 * pi * i * 0.123). Integer numbers behave just like their mathematical counterpart with the only limiation that the hardware cannot manage numbers that exceed a certain length way beyond our imagination. This limit is not relevant for our programming purposes because even numbers like 10^1000 are no problem. Hence, with integers we can count and address every femtosecond that happened since the big bang.\n",
    "\n",
    "Working with real numbers in a computer is in almost all cases just like we expect it:"
   ]
  },
  {
   "cell_type": "code",
   "execution_count": null,
   "metadata": {},
   "outputs": [],
   "source": [
    "# Predict the result of this product:\n",
    "2*0.8"
   ]
  },
  {
   "cell_type": "code",
   "execution_count": null,
   "metadata": {},
   "outputs": [],
   "source": [
    "# Predict the result of this sum:\n",
    "1 + 0.1"
   ]
  },
  {
   "cell_type": "markdown",
   "metadata": {},
   "source": [
    "This looks alright. Nothing special about that. But..."
   ]
  },
  {
   "cell_type": "code",
   "execution_count": null,
   "metadata": {
    "scrolled": true
   },
   "outputs": [],
   "source": [
    "# Predict the result of this difference:\n",
    "1-0.9"
   ]
  },
  {
   "cell_type": "code",
   "execution_count": null,
   "metadata": {},
   "outputs": [],
   "source": [
    "# Predict the result of this product:\n",
    "3*0.333"
   ]
  },
  {
   "cell_type": "markdown",
   "metadata": {},
   "source": [
    "This looks wrong! But there is an explanation. Real numbers (and complex numbers) in Python (and any programming language) are only an approximation to the numbers as defined mathematically. The computer uses floating-point numbers to represent real numbers. The representation is efficient for computing, but in general **not exact**. \n",
    "The limitation is usually not significant and in most of the cases we may ignore them, but we must be aware that certain *weird* output is normal. If we look at more decimal places of the first two examples, they are indeed also not exactly represented:\n",
    " \n",
    " \n",
    " "
   ]
  },
  {
   "cell_type": "code",
   "execution_count": null,
   "metadata": {},
   "outputs": [],
   "source": [
    "2*0.8"
   ]
  },
  {
   "cell_type": "code",
   "execution_count": null,
   "metadata": {},
   "outputs": [],
   "source": [
    "number = 2*0.8\n",
    "format(number, \".20f\")"
   ]
  },
  {
   "cell_type": "markdown",
   "metadata": {},
   "source": [
    "The format function defines the output format of strings and numbers. Here, \".20f\" means that the input is a **f**loating-point number, and that we want to see 20 digits after the decimal point."
   ]
  },
  {
   "cell_type": "code",
   "execution_count": null,
   "metadata": {},
   "outputs": [],
   "source": [
    "1 + 0.1"
   ]
  },
  {
   "cell_type": "code",
   "execution_count": null,
   "metadata": {},
   "outputs": [],
   "source": [
    "# Also 1.1 is not exactly represented\n",
    "addition = 1 + 0.1\n",
    "format(addition, \".20f\")"
   ]
  },
  {
   "cell_type": "markdown",
   "metadata": {},
   "source": [
    "If you want to understand this in more detail, ask YouTube or Wikipedia:\n",
    "https://en.wikipedia.org/wiki/Double-precision_floating-point_format\n",
    "\n",
    "This Wiki article is not specific for Python, because the so-called IEEE-754 standard is used by all programming languages in the same way. The reason is, that processors - including those in your mobile phone - are optimised for floating-point numbers in the IEEE-754 format."
   ]
  },
  {
   "cell_type": "code",
   "execution_count": null,
   "metadata": {},
   "outputs": [],
   "source": [
    "# There are numbers that are correctly represented:\n",
    "product2 = 3*0.5\n",
    "format(product2, \".60f\")"
   ]
  },
  {
   "cell_type": "markdown",
   "metadata": {},
   "source": [
    "Any rational number that can be expressed as n/(2^m), where n and m are integers, has an exact floating-point representation. (For more information: https://en.wikipedia.org/wiki/Dyadic_rational#In_computing)\n",
    "<br>\n",
    "3 * 0.5 = 1.5 = 3/(2^1)\n",
    "\n",
    "In all other cases, there is a (usually) small round-off error because of the floating-point representation. For us, this round-off error is in most cases negligible because the uncertainty of the experimental or simulated parameters we use is much larger than the round-off error."
   ]
  },
  {
   "cell_type": "markdown",
   "metadata": {},
   "source": [
    "Examples:"
   ]
  },
  {
   "cell_type": "code",
   "execution_count": null,
   "metadata": {},
   "outputs": [],
   "source": [
    "mass_earth = 5.9722 * 10**24 # kg\n",
    "format(mass_earth, \".16E\")"
   ]
  },
  {
   "cell_type": "code",
   "execution_count": null,
   "metadata": {},
   "outputs": [],
   "source": [
    "molar_mass_sodium = 22.98976928 # atomic units\n",
    "molar_mass_sodium_uncertainty = 0.00000002\n",
    "print(format(molar_mass_sodium, \"20.15f\"))\n",
    "print(format(molar_mass_sodium_uncertainty, \"20.15f\"))"
   ]
  },
  {
   "cell_type": "markdown",
   "metadata": {},
   "source": [
    "### 1.2.1 Lists\n",
    "Lists are a collection of objects of any kind, usually numbers or strings."
   ]
  },
  {
   "cell_type": "code",
   "execution_count": null,
   "metadata": {},
   "outputs": [],
   "source": [
    "my_numbers = [0,1,2,3]\n",
    "my_numbers"
   ]
  },
  {
   "cell_type": "code",
   "execution_count": null,
   "metadata": {
    "tags": []
   },
   "outputs": [],
   "source": [
    "zoo = ['dog', 'cat','raccoon']\n",
    "zoo"
   ]
  },
  {
   "cell_type": "code",
   "execution_count": null,
   "metadata": {
    "tags": []
   },
   "outputs": [],
   "source": [
    "# We can change the list, i.e. lists are *mutable*\n",
    "zoo.append('lion')\n",
    "zoo"
   ]
  },
  {
   "cell_type": "markdown",
   "metadata": {},
   "source": [
    "In zoo.append(), zoo refers to an object of type *list*, and append is a so-called *method*. All objects have object-specific methods. We can get help on this method as we learned before:"
   ]
  },
  {
   "cell_type": "code",
   "execution_count": null,
   "metadata": {},
   "outputs": [],
   "source": [
    "# Specific for this case after zoo was defined\n",
    "help(zoo.append)"
   ]
  },
  {
   "cell_type": "code",
   "execution_count": null,
   "metadata": {
    "scrolled": true
   },
   "outputs": [],
   "source": [
    "# In general\n",
    "help(list.append)"
   ]
  },
  {
   "cell_type": "code",
   "execution_count": null,
   "metadata": {
    "scrolled": true
   },
   "outputs": [],
   "source": [
    "print(zoo)\n",
    "zoo[0]"
   ]
  },
  {
   "cell_type": "markdown",
   "metadata": {},
   "source": [
    "In some programming languages, and for most humans intuitively, counting starts with number 1. Other programming languages, including Python, start counting with 0."
   ]
  },
  {
   "cell_type": "code",
   "execution_count": null,
   "metadata": {
    "tags": []
   },
   "outputs": [],
   "source": [
    "positions = \"Index:  \"\n",
    "animals =   \"Animal: \"\n",
    "for i, animal in enumerate(zoo):\n",
    "    positions = positions + format(i, \"<8d\")\n",
    "    animals = animals + format(animal, \"8\")\n",
    "print(positions)\n",
    "print(animals)    "
   ]
  },
  {
   "cell_type": "code",
   "execution_count": null,
   "metadata": {},
   "outputs": [],
   "source": [
    "# list element selection\n",
    "print(zoo[0])\n"
   ]
  },
  {
   "cell_type": "code",
   "execution_count": null,
   "metadata": {
    "scrolled": true
   },
   "outputs": [],
   "source": [
    "print(zoo[0])"
   ]
  },
  {
   "cell_type": "code",
   "execution_count": null,
   "metadata": {},
   "outputs": [],
   "source": [
    "print(zoo[1])"
   ]
  },
  {
   "cell_type": "code",
   "execution_count": null,
   "metadata": {},
   "outputs": [],
   "source": [
    "print(zoo[2])"
   ]
  },
  {
   "cell_type": "code",
   "execution_count": null,
   "metadata": {},
   "outputs": [],
   "source": [
    "print(zoo[3])"
   ]
  },
  {
   "cell_type": "code",
   "execution_count": null,
   "metadata": {},
   "outputs": [],
   "source": [
    "print(animals[0:2]) # from 0 up to 2 exclusive. "
   ]
  },
  {
   "cell_type": "code",
   "execution_count": null,
   "metadata": {
    "scrolled": true
   },
   "outputs": [],
   "source": [
    "# Append adds an object to the end. With insert we can define where to place the object.\n",
    "zoo.insert(0, 'mouse')\n",
    "zoo"
   ]
  },
  {
   "cell_type": "code",
   "execution_count": null,
   "metadata": {},
   "outputs": [],
   "source": [
    "# Reverse the order\n",
    "zoo.reverse()\n",
    "zoo"
   ]
  },
  {
   "cell_type": "code",
   "execution_count": null,
   "metadata": {},
   "outputs": [],
   "source": [
    "# We can sort a list with the sort method.\n",
    "zoo.sort()\n",
    "zoo"
   ]
  },
  {
   "cell_type": "code",
   "execution_count": null,
   "metadata": {},
   "outputs": [],
   "source": [
    "# Remove an item\n",
    "zoo.remove(\"dog\")\n",
    "print(zoo)"
   ]
  },
  {
   "cell_type": "markdown",
   "metadata": {},
   "source": [
    "The introduced methods for list objects directly modify the list object. This direct modification is called *inplace*.\n",
    "\n",
    "Other ways generate a new object. The following looks similar to the append method, but this does not modify the list inplace."
   ]
  },
  {
   "cell_type": "code",
   "execution_count": null,
   "metadata": {},
   "outputs": [],
   "source": [
    "zoo + [\"horse\"]"
   ]
  },
  {
   "cell_type": "code",
   "execution_count": null,
   "metadata": {},
   "outputs": [],
   "source": [
    "zoo"
   ]
  },
  {
   "cell_type": "code",
   "execution_count": null,
   "metadata": {},
   "outputs": [],
   "source": [
    "# To make the change permanent\n",
    "zoo = zoo + [\"horse\"]"
   ]
  },
  {
   "cell_type": "code",
   "execution_count": null,
   "metadata": {},
   "outputs": [],
   "source": [
    "# replace items\n",
    "zoo[1] = \"eagle\""
   ]
  },
  {
   "cell_type": "code",
   "execution_count": null,
   "metadata": {},
   "outputs": [],
   "source": [
    "len(zoo)"
   ]
  },
  {
   "cell_type": "markdown",
   "metadata": {},
   "source": [
    "We will usually generate a list using square brackets. However, you can also generate a list using list()."
   ]
  },
  {
   "cell_type": "code",
   "execution_count": null,
   "metadata": {},
   "outputs": [],
   "source": [
    "primes1 = list()\n",
    "primes1.append(2)\n",
    "primes1.append(3)\n",
    "primes1"
   ]
  },
  {
   "cell_type": "code",
   "execution_count": null,
   "metadata": {},
   "outputs": [],
   "source": [
    "primes2 = [2,3]\n",
    "\n",
    "# the two lists are identical\n",
    "primes1 == primes2"
   ]
  },
  {
   "cell_type": "code",
   "execution_count": null,
   "metadata": {},
   "outputs": [],
   "source": [
    "# You can have a list of lists and other objects\n",
    "wilderness = [ 1, \"one\", 1.0, [0, [1,[2],[3],[4], [\"Why!?\", [0,1,2,3,4,\"Good job!\"]]]], int, float, [1,2,3]]\n",
    "print(wilderness)"
   ]
  },
  {
   "cell_type": "code",
   "execution_count": null,
   "metadata": {},
   "outputs": [],
   "source": [
    "# Predict the outcome of this:\n",
    "wilderness[3][1][4][1][5]"
   ]
  },
  {
   "cell_type": "markdown",
   "metadata": {},
   "source": [
    "### 1.2.2 Tuples\n",
    "Tuples are the boring siblings of lists. Tuples cannot be changed once defined, i.e. they are *immutable*. Methods like append, remove, sort are not available."
   ]
  },
  {
   "cell_type": "code",
   "execution_count": null,
   "metadata": {},
   "outputs": [],
   "source": [
    "woche = ('Montag','Dienstag','Mittwoch','Donnerstag','Freitag','Samstag','Sonntag')\n",
    "woche"
   ]
  },
  {
   "cell_type": "code",
   "execution_count": null,
   "metadata": {},
   "outputs": [],
   "source": [
    "woche.index(\"Sonntag\")"
   ]
  },
  {
   "cell_type": "code",
   "execution_count": null,
   "metadata": {},
   "outputs": [],
   "source": [
    "len(woche)"
   ]
  },
  {
   "cell_type": "code",
   "execution_count": null,
   "metadata": {},
   "outputs": [],
   "source": [
    "len(woche)"
   ]
  },
  {
   "cell_type": "code",
   "execution_count": null,
   "metadata": {},
   "outputs": [],
   "source": [
    "# You can enter a tuple using the tuple function\n",
    "week_days = tuple( \"MTWTFSS\" )\n",
    "week_days"
   ]
  },
  {
   "cell_type": "code",
   "execution_count": null,
   "metadata": {},
   "outputs": [],
   "source": [
    "week_days = tuple( \"Mon Tue Wed Thu Fri Sat Sun\".split() )\n",
    "week_days"
   ]
  },
  {
   "cell_type": "code",
   "execution_count": null,
   "metadata": {},
   "outputs": [],
   "source": [
    "a = [1,2,3]\n",
    "b = tuple(a)\n",
    "b"
   ]
  },
  {
   "cell_type": "code",
   "execution_count": null,
   "metadata": {},
   "outputs": [],
   "source": [
    "# A tuple can also be entered by simply separating objects with a comma:\n",
    "a = 1,2,3\n",
    "a, type(a)"
   ]
  },
  {
   "cell_type": "code",
   "execution_count": null,
   "metadata": {},
   "outputs": [],
   "source": [
    "1,2"
   ]
  },
  {
   "cell_type": "code",
   "execution_count": null,
   "metadata": {},
   "outputs": [],
   "source": [
    "a = 1,2,3,4,print\n",
    "a"
   ]
  },
  {
   "cell_type": "code",
   "execution_count": null,
   "metadata": {},
   "outputs": [],
   "source": [
    "# This does not work, because tuples cannot be changed. Tuples are immutable\n",
    "a[-1] = 5"
   ]
  },
  {
   "cell_type": "code",
   "execution_count": null,
   "metadata": {},
   "outputs": [],
   "source": [
    "# But you could convert a tuple to a list, modify it, and convert it back to a tuple.\n",
    "tmp = list(a)\n",
    "tmp[-1] = 5\n",
    "new_a = tuple(tmp)\n",
    "new_a"
   ]
  },
  {
   "cell_type": "markdown",
   "metadata": {},
   "source": [
    "If you need to change an item of a tuple, it usually means that the wrong data type was chosen.\n",
    "Use a tuple if you want to make sure that it does not get changed."
   ]
  },
  {
   "cell_type": "code",
   "execution_count": null,
   "metadata": {},
   "outputs": [],
   "source": [
    "# List of faces of a crystal described by Miller indices.\n",
    "# The indices are fixed and should not be changed.\n",
    "cube = (\n",
    "    (1,0,0),\n",
    "    (0,1,0),\n",
    "    (0,0,1),\n",
    "    (-1,0,0),\n",
    "    (0,-1,0),\n",
    "    (0,0,-1)\n",
    ")\n",
    "\n",
    "print(cube)"
   ]
  },
  {
   "cell_type": "code",
   "execution_count": null,
   "metadata": {},
   "outputs": [],
   "source": [
    "# Another neat (indirect) application of tuples is multiple variable assignment:\n",
    "a,b,c = 'a', 'b', 'c'\n",
    "print(a)\n",
    "print(b)\n",
    "print(c)"
   ]
  },
  {
   "cell_type": "markdown",
   "metadata": {},
   "source": [
    "### 1.2.3 Strings\n",
    "This is not the last time that we get back to strings..."
   ]
  },
  {
   "cell_type": "code",
   "execution_count": null,
   "metadata": {},
   "outputs": [],
   "source": [
    "# \"multiplication\"\n",
    "symbol = \"*\"\n",
    "symbol*5"
   ]
  },
  {
   "cell_type": "code",
   "execution_count": null,
   "metadata": {},
   "outputs": [],
   "source": [
    "# neat separator\n",
    "\"_|''|_ \"*15"
   ]
  },
  {
   "cell_type": "code",
   "execution_count": null,
   "metadata": {},
   "outputs": [],
   "source": [
    "# concatenate strings\n",
    "word1 = \"Geoscience\"\n",
    "word2 = \" Rocks!\"\n",
    "\n",
    "statement = word1 + word2\n",
    "statement"
   ]
  },
  {
   "cell_type": "code",
   "execution_count": null,
   "metadata": {},
   "outputs": [],
   "source": [
    "type(word1)"
   ]
  },
  {
   "cell_type": "code",
   "execution_count": null,
   "metadata": {},
   "outputs": [],
   "source": [
    "# String method: make all letters uppercase\n",
    "word1.upper()"
   ]
  },
  {
   "cell_type": "code",
   "execution_count": null,
   "metadata": {},
   "outputs": [],
   "source": [
    "word1.count(\"e\")"
   ]
  },
  {
   "cell_type": "code",
   "execution_count": null,
   "metadata": {},
   "outputs": [],
   "source": [
    "# String method: replace a part\n",
    "new_word = word1.replace(\"science\", \"graphy\")\n",
    "new_word"
   ]
  },
  {
   "cell_type": "code",
   "execution_count": null,
   "metadata": {},
   "outputs": [],
   "source": [
    "# Determine number of characters in a string\n",
    "len(word1)"
   ]
  },
  {
   "cell_type": "code",
   "execution_count": null,
   "metadata": {},
   "outputs": [],
   "source": [
    "# Select 1st character\n",
    "word1[0]"
   ]
  },
  {
   "cell_type": "code",
   "execution_count": null,
   "metadata": {},
   "outputs": [],
   "source": [
    "# Select 10th character\n",
    "word1[9]"
   ]
  },
  {
   "cell_type": "code",
   "execution_count": null,
   "metadata": {},
   "outputs": [],
   "source": [
    "# Select substring consisting of 1st, 2nd, and 3rd character\n",
    "word1[0:3]"
   ]
  },
  {
   "cell_type": "code",
   "execution_count": null,
   "metadata": {},
   "outputs": [],
   "source": [
    "# Substring from 3rd until last character\n",
    "word1[3:]"
   ]
  },
  {
   "cell_type": "code",
   "execution_count": null,
   "metadata": {},
   "outputs": [],
   "source": [
    "len(word1[3:])"
   ]
  },
  {
   "cell_type": "code",
   "execution_count": null,
   "metadata": {},
   "outputs": [],
   "source": [
    "# Substring starting at index -7\n",
    "word1[-7:]"
   ]
  },
  {
   "cell_type": "code",
   "execution_count": null,
   "metadata": {},
   "outputs": [],
   "source": [
    "q = \"Is Python case sensitive?\"\n",
    "Q = \"Yes.\"\n",
    "print(q)\n",
    "print(Q)"
   ]
  },
  {
   "cell_type": "code",
   "execution_count": null,
   "metadata": {},
   "outputs": [],
   "source": [
    "# For a full description of strings and a list of all methods:\n",
    "help(str)"
   ]
  },
  {
   "cell_type": "markdown",
   "metadata": {},
   "source": [
    "### 1.2.4 Boolean"
   ]
  },
  {
   "cell_type": "markdown",
   "metadata": {
    "tags": []
   },
   "source": [
    "We will learn more about the Boolean data type later."
   ]
  },
  {
   "cell_type": "markdown",
   "metadata": {},
   "source": [
    "### 1.2.5 complex numbers\n",
    "Complex numbers have a real and imaginary part, both are represented as floating point numbers. Python supports arithmetic operations on complex numbers."
   ]
  },
  {
   "cell_type": "code",
   "execution_count": null,
   "metadata": {},
   "outputs": [],
   "source": [
    "# A lower case j is used to define a complex number\n",
    "c = 3+2j\n",
    "print(c)"
   ]
  },
  {
   "cell_type": "code",
   "execution_count": null,
   "metadata": {},
   "outputs": [],
   "source": [
    "#  We can access the real and imaginary part using dot notation."
   ]
  },
  {
   "cell_type": "code",
   "execution_count": null,
   "metadata": {},
   "outputs": [],
   "source": [
    "c = 6+1j\n",
    "print(\"Imaginary part:\", c.imag)\n",
    "print(\"Real part:\", c.real)"
   ]
  },
  {
   "cell_type": "code",
   "execution_count": null,
   "metadata": {},
   "outputs": [],
   "source": [
    "# Python knows how to calculate with complex numbers\n",
    "c1 = 1+1j\n",
    "c2 = 1+2j\n",
    "print(c1+c2)"
   ]
  },
  {
   "cell_type": "code",
   "execution_count": null,
   "metadata": {},
   "outputs": [],
   "source": [
    "# product of two complex numbers\n",
    "print(c1*c2)"
   ]
  },
  {
   "cell_type": "code",
   "execution_count": null,
   "metadata": {},
   "outputs": [],
   "source": [
    "# quotient of two complex numbers\n",
    "print(c1/c2)"
   ]
  },
  {
   "cell_type": "code",
   "execution_count": null,
   "metadata": {},
   "outputs": [],
   "source": [
    "# The j in complex numbers is one of the very few exceptions, for which Python is not case sensitive.\n",
    "1j == 1J"
   ]
  },
  {
   "cell_type": "code",
   "execution_count": null,
   "metadata": {},
   "outputs": [],
   "source": [
    "# I recommend using consistenly a lower case j."
   ]
  },
  {
   "cell_type": "markdown",
   "metadata": {},
   "source": [
    "### 1.3 Comparisons and if statements"
   ]
  },
  {
   "cell_type": "markdown",
   "metadata": {},
   "source": [
    "Using Python (and other programming languages), there is a way to compare two statements or variables. For example, we can compare two variables *a* and *b*:\n",
    "\n",
    "```python\n",
    "# variable assignment\n",
    "a = 5\n",
    "\n",
    "# variable assignment\n",
    "b = 7\n",
    "\n",
    "# comparison: this statement is true\n",
    "a < b\n",
    "```\n",
    "\n",
    "In this section, we will first look at a few comparisons, then look at the outcome of a comparison (Boolean data types), and finally we will learn how to use these concepts like an ON/OFF switch for selected program parts (conditional statements)."
   ]
  },
  {
   "cell_type": "markdown",
   "metadata": {},
   "source": [
    "### 1.3.0 Comparison operators"
   ]
  },
  {
   "cell_type": "code",
   "execution_count": null,
   "metadata": {},
   "outputs": [],
   "source": [
    "# 1 is less than 2 (?)\n",
    "1 < 2"
   ]
  },
  {
   "cell_type": "code",
   "execution_count": null,
   "metadata": {},
   "outputs": [],
   "source": [
    "# 5 is greater than 20 (?)\n",
    "5 > 20"
   ]
  },
  {
   "cell_type": "markdown",
   "metadata": {},
   "source": [
    "Execution of 1<2 makes Python output \n",
    "*True*. Execution of 5\\>20 leads to *False*.\n",
    "This *True* and *False* is a not a string, but it is its own data type, which we will learn about later. \n",
    "\n",
    "First, we will focus on more comparison operators:\n",
    "- a == b, a is equal to b?\n",
    "- a != b, a is not equal to b?\n",
    "- a < b, a is less than b?\n",
    "- a > b, a is greater than b?\n",
    "- a >= b, a is greater than or equal to b?\n",
    "- a <= b, a is less than or equal to b?"
   ]
  },
  {
   "cell_type": "markdown",
   "metadata": {},
   "source": [
    "Before running the following cells, first try to predict the outcome. Then check if the result agrees with or differs from your expectation."
   ]
  },
  {
   "cell_type": "code",
   "execution_count": null,
   "metadata": {},
   "outputs": [],
   "source": [
    "2 < 2"
   ]
  },
  {
   "cell_type": "code",
   "execution_count": null,
   "metadata": {
    "scrolled": true
   },
   "outputs": [],
   "source": [
    "2 <= 2"
   ]
  },
  {
   "cell_type": "code",
   "execution_count": null,
   "metadata": {},
   "outputs": [],
   "source": [
    "1 >= 10"
   ]
  },
  {
   "cell_type": "code",
   "execution_count": null,
   "metadata": {},
   "outputs": [],
   "source": [
    "2 != 5"
   ]
  },
  {
   "cell_type": "code",
   "execution_count": null,
   "metadata": {},
   "outputs": [],
   "source": [
    "a = len(\"Hi\")\n",
    "b = len(\"Hello\")\n",
    "a == b"
   ]
  },
  {
   "cell_type": "code",
   "execution_count": null,
   "metadata": {},
   "outputs": [],
   "source": [
    "# A comparison of integers with floats in most cases works as expected. \n",
    "42 == 42.0"
   ]
  },
  {
   "cell_type": "code",
   "execution_count": null,
   "metadata": {},
   "outputs": [],
   "source": [
    "# In other cases it does NOT work as expected\n",
    "1 == 3*0.3 + 0.1"
   ]
  },
  {
   "cell_type": "markdown",
   "metadata": {},
   "source": [
    "**Examples of complicated cases**"
   ]
  },
  {
   "cell_type": "code",
   "execution_count": null,
   "metadata": {},
   "outputs": [],
   "source": [
    "# Obviously different to the human eye, but ...\n",
    "0.3333333333333333 == 0.33333333333333333333333333333333"
   ]
  },
  {
   "cell_type": "code",
   "execution_count": null,
   "metadata": {},
   "outputs": [],
   "source": [
    "# Almost the same, but ...\n",
    "0.3333333333333333 == 0.333333333333333"
   ]
  },
  {
   "cell_type": "code",
   "execution_count": null,
   "metadata": {},
   "outputs": [],
   "source": [
    "# Be careful when comparing floating point numbers ...\n",
    "(0.1 + 0.1 + 0.1) * 10 == 3"
   ]
  },
  {
   "cell_type": "code",
   "execution_count": null,
   "metadata": {},
   "outputs": [],
   "source": []
  },
  {
   "cell_type": "markdown",
   "metadata": {},
   "source": [
    "A comparison of strings is possible.\n",
    "\n",
    "\n",
    "**RECOMMENDATION: Do not use < or > with strings.**\n",
    "Go through the bonus notebook for more details."
   ]
  },
  {
   "cell_type": "code",
   "execution_count": null,
   "metadata": {},
   "outputs": [],
   "source": [
    "'hi' == \"hi\""
   ]
  },
  {
   "cell_type": "code",
   "execution_count": null,
   "metadata": {},
   "outputs": [],
   "source": [
    "\"a\" < \"b\""
   ]
  },
  {
   "cell_type": "code",
   "execution_count": null,
   "metadata": {},
   "outputs": [],
   "source": [
    "# Comparison of strings containing numbers\n",
    "\"235.0\" < \"235.1\""
   ]
  },
  {
   "cell_type": "code",
   "execution_count": null,
   "metadata": {},
   "outputs": [],
   "source": [
    "# Better be careful...\n",
    "\"235.0 \" < \" 235.1\""
   ]
  },
  {
   "cell_type": "code",
   "execution_count": null,
   "metadata": {},
   "outputs": [],
   "source": [
    "# Better be careful...\n",
    "\" 20\" < \"-20\""
   ]
  },
  {
   "cell_type": "markdown",
   "metadata": {},
   "source": [
    "**Recommendation:** Do not use < and > with strings."
   ]
  },
  {
   "cell_type": "code",
   "execution_count": null,
   "metadata": {},
   "outputs": [],
   "source": []
  },
  {
   "cell_type": "markdown",
   "metadata": {},
   "source": [
    "### 1.3.1 Boolean data type\n",
    "The Boolean data type has only two allowed values:\n",
    "- True\n",
    "- False\n"
   ]
  },
  {
   "cell_type": "code",
   "execution_count": null,
   "metadata": {},
   "outputs": [],
   "source": [
    "a = True\n",
    "print(a)"
   ]
  },
  {
   "cell_type": "code",
   "execution_count": null,
   "metadata": {},
   "outputs": [],
   "source": [
    "type(a)"
   ]
  },
  {
   "cell_type": "markdown",
   "metadata": {},
   "source": [
    "It is too early now to go into the details. For now, we mainly need to know that any expression can be converted to the Boolean data type."
   ]
  },
  {
   "cell_type": "code",
   "execution_count": null,
   "metadata": {},
   "outputs": [],
   "source": [
    "bool(1>3)"
   ]
  },
  {
   "cell_type": "code",
   "execution_count": null,
   "metadata": {},
   "outputs": [],
   "source": [
    "bool(1)"
   ]
  },
  {
   "cell_type": "code",
   "execution_count": null,
   "metadata": {},
   "outputs": [],
   "source": [
    "bool(bool)"
   ]
  },
  {
   "cell_type": "code",
   "execution_count": null,
   "metadata": {},
   "outputs": [],
   "source": [
    "bool(str)"
   ]
  },
  {
   "cell_type": "code",
   "execution_count": null,
   "metadata": {},
   "outputs": [],
   "source": [
    "bool({})"
   ]
  },
  {
   "cell_type": "code",
   "execution_count": null,
   "metadata": {},
   "outputs": [],
   "source": [
    "bool([])"
   ]
  },
  {
   "cell_type": "code",
   "execution_count": null,
   "metadata": {},
   "outputs": [],
   "source": [
    "bool([[]])"
   ]
  },
  {
   "cell_type": "code",
   "execution_count": null,
   "metadata": {},
   "outputs": [],
   "source": [
    "bool(0)"
   ]
  },
  {
   "cell_type": "code",
   "execution_count": null,
   "metadata": {
    "tags": []
   },
   "outputs": [],
   "source": [
    "is_earth_flat = False\n",
    "\n",
    "use_dark_mode = True # This has no effect on Jupyter\n",
    "\n",
    "# By the way: JupyterLab (and Jupyter notebooks) supports a dark mode. Try Settings -> Theme -> JupyterLab Dark.\n",
    "# If this option does not exist, consider updating to the latest version."
   ]
  },
  {
   "cell_type": "code",
   "execution_count": null,
   "metadata": {},
   "outputs": [],
   "source": []
  },
  {
   "cell_type": "markdown",
   "metadata": {},
   "source": [
    "### 1.3.2 Conditional statements (if-statements)\n",
    "\n",
    "With conditionals statements, we can run a code block depending on the Boolean value of an expression.\n",
    "\n",
    "The statement consists of at least one line starting with the keyword **if** followed by a statement. After that line, a block with each line indented follows. These indented lines are only executed if the statement after **if** is true."
   ]
  },
  {
   "cell_type": "code",
   "execution_count": null,
   "metadata": {},
   "outputs": [],
   "source": [
    "statement = True\n",
    "if statement == True:\n",
    "    # indented lines:\n",
    "    # this code block is only executed if the statement is true.\n",
    "    print(\"The statement is true.\")\n",
    "    \n",
    "# non-indented lines\n",
    "# This line is executed independent of the if-block because this line is outside the if-block.\n",
    "print(\"OK\")"
   ]
  },
  {
   "cell_type": "code",
   "execution_count": null,
   "metadata": {},
   "outputs": [],
   "source": [
    "statement = False\n",
    "if statement == True:\n",
    "    # this code block is only executed if the statement is true.\n",
    "    print(\"The statement is true.\")\n",
    "    \n",
    "print(\"OK\")    "
   ]
  },
  {
   "cell_type": "markdown",
   "metadata": {},
   "source": [
    "An if-block may be followed by an else block (using the keyword **else**)."
   ]
  },
  {
   "cell_type": "code",
   "execution_count": null,
   "metadata": {},
   "outputs": [],
   "source": [
    "statement = False\n",
    "if statement == True:\n",
    "    # this code block is only executed if the statement is true.\n",
    "    print(\"The statement is true.\")\n",
    "else:\n",
    "    # this code block is only executed if the statement is false\n",
    "    print(\"The statement is not true. It is false.\")\n",
    "    \n",
    "print(\"OK\")    "
   ]
  },
  {
   "cell_type": "code",
   "execution_count": null,
   "metadata": {},
   "outputs": [],
   "source": [
    "# We actually can remove the part '== True'.\n",
    "statement = True\n",
    "\n",
    "if statement:\n",
    "    print(\"The statement is true.\")\n",
    "    \n",
    "print(\"OK\")  \n"
   ]
  },
  {
   "cell_type": "code",
   "execution_count": null,
   "metadata": {},
   "outputs": [],
   "source": [
    "# Explanation: The '== True' part does not affect at all what is done.\n",
    "statement = (1 < 2)\n",
    "statement_as_bool = bool(statement == True)\n",
    "\n",
    "statement == statement_as_bool"
   ]
  },
  {
   "cell_type": "code",
   "execution_count": null,
   "metadata": {},
   "outputs": [],
   "source": [
    "if statement:\n",
    "    print(statement, \": 1 < 2\")"
   ]
  },
  {
   "cell_type": "code",
   "execution_count": null,
   "metadata": {},
   "outputs": [],
   "source": [
    "if statement_as_bool:\n",
    "    print(statement_as_bool, \": (1 < 2) == True\")"
   ]
  },
  {
   "cell_type": "markdown",
   "metadata": {},
   "source": [
    "We can add one (or more) 'elif'-blocks. This allows us to distinguish more than two cases with an extended if-statement. 'elif' stands for 'else if' and is tested, if the if-block and any preceeding elif-blocks were not executed. If the 'elif' statement is true, the elif block is executed and any remaining elif block or else block is ignored."
   ]
  },
  {
   "cell_type": "code",
   "execution_count": null,
   "metadata": {},
   "outputs": [],
   "source": [
    "# An example with one 'elif'\n",
    "a = 2\n",
    "b = 3\n",
    "if a < b:\n",
    "    # this code block is only executed if the statement (a<b) is true.\n",
    "    print(\"#: The 'if' block is running.\")\n",
    "    print(a, 'is less than', b)\n",
    "elif a==b:\n",
    "    # this code block is only executed if the statement (a is equal to b) is true.\n",
    "    print(\"##: The 'elif' block is running.\")\n",
    "    print(a, 'is equal to', b)\n",
    "else:\n",
    "    # this code block is only executed if none of the above statements is true.\n",
    "    # Neither (a<b) nor (a is equal to b) is true.\n",
    "    # This implies that a > b.\n",
    "    print(\"### The 'else' block is running.\")\n",
    "    print(a, 'is greater than', b)\n",
    "\n",
    "print(\"Feel free to change the values of a and b and execute again the cell.\")"
   ]
  },
  {
   "cell_type": "code",
   "execution_count": null,
   "metadata": {},
   "outputs": [],
   "source": [
    "# An example with more 'elif' blocks\n",
    "a = 3\n",
    "if a == 0:\n",
    "    print(\"#: The 'if' block is running.\")\n",
    "    print(a, 'is 0')\n",
    "    # If this block was executed, all 'elif' and 'else' blocks below are not tested.\n",
    "elif a == 1:\n",
    "    print(\"##: The first 'elif' block is running.\")\n",
    "    print(a, 'is 1')\n",
    "    # If this block was executed, all 'elif' and 'else' blocks below are not tested.\n",
    "elif a == 2:\n",
    "    print(\"###: The second 'elif' block is running.\")\n",
    "    print(a, 'is 2')\n",
    "    # If this block was executed, the 'elif' and 'else' below is not tested.\n",
    "elif a == 3:\n",
    "    print(\"####: The third 'elif' block is running.\")\n",
    "    print(a, 'is 3')\n",
    "    # If this block was executed, the 'else' below is not tested.\n",
    "else:\n",
    "    print(\"##### The 'else' block is running.\")\n",
    "    print(a, 'is not 0, 1, 2, or 3')\n"
   ]
  },
  {
   "cell_type": "markdown",
   "metadata": {},
   "source": [
    "##### A final example of an if-statement"
   ]
  },
  {
   "cell_type": "code",
   "execution_count": null,
   "metadata": {},
   "outputs": [],
   "source": [
    "# What is the surface of the earth?\n",
    "\n",
    "# Remember, you can use _ to improve readability of number inputs\n",
    "radius = 6_378_137 # unit: meters, m \n",
    "\n",
    "earth_is_flat = False\n",
    "\n",
    "pi = 3.141592653589793238462643383279502884\n",
    "\n",
    "if earth_is_flat:    \n",
    "    # assume earth is a disk with the relevant surface being on one side\n",
    "    print(\"The earth is flat.\")\n",
    "    area = pi * radius**2\n",
    "else:\n",
    "    # assume earth is a sphere\n",
    "    print(\"The earth is a sphere.\")\n",
    "    area = 4 * pi * radius**2\n",
    "    \n",
    "print(f\"The surface area of planet earth is {area:.0f} m^2.\")\n"
   ]
  },
  {
   "cell_type": "markdown",
   "metadata": {},
   "source": [
    "### 1.3.3 Logical (Boolean) operators\n",
    "\n",
    "We may be interested to check if a combination of expressions is true. For this, we can use the Boolean operators\n",
    "- and\n",
    "- or\n",
    "- not"
   ]
  },
  {
   "cell_type": "markdown",
   "metadata": {},
   "source": [
    "#### and"
   ]
  },
  {
   "cell_type": "code",
   "execution_count": null,
   "metadata": {},
   "outputs": [],
   "source": [
    "# and: both statements must be True\n",
    "True and True"
   ]
  },
  {
   "cell_type": "code",
   "execution_count": null,
   "metadata": {},
   "outputs": [],
   "source": [
    "if (True and True):\n",
    "    print(\"Both statements are true.\")\n",
    "else:\n",
    "    print(\"At least one statement is false.\")"
   ]
  },
  {
   "cell_type": "code",
   "execution_count": null,
   "metadata": {
    "scrolled": true
   },
   "outputs": [],
   "source": [
    "if (True and False):\n",
    "    print(\"Both statements are true.\")\n",
    "else:\n",
    "    print(\"At least one statement is false.\")"
   ]
  },
  {
   "cell_type": "markdown",
   "metadata": {},
   "source": [
    "#### or"
   ]
  },
  {
   "cell_type": "code",
   "execution_count": null,
   "metadata": {},
   "outputs": [],
   "source": [
    "# or: at least one statement is True\n",
    "True or False"
   ]
  },
  {
   "cell_type": "code",
   "execution_count": null,
   "metadata": {},
   "outputs": [],
   "source": [
    "False or True"
   ]
  },
  {
   "cell_type": "code",
   "execution_count": null,
   "metadata": {},
   "outputs": [],
   "source": [
    "False or False"
   ]
  },
  {
   "cell_type": "markdown",
   "metadata": {},
   "source": [
    "#### not"
   ]
  },
  {
   "cell_type": "code",
   "execution_count": null,
   "metadata": {},
   "outputs": [],
   "source": [
    "# not converts True to False and vice versa\n",
    "not False"
   ]
  },
  {
   "cell_type": "code",
   "execution_count": null,
   "metadata": {},
   "outputs": [],
   "source": [
    "not True"
   ]
  },
  {
   "cell_type": "code",
   "execution_count": null,
   "metadata": {},
   "outputs": [],
   "source": [
    "not (5<4)"
   ]
  },
  {
   "cell_type": "code",
   "execution_count": null,
   "metadata": {},
   "outputs": [],
   "source": []
  },
  {
   "cell_type": "markdown",
   "metadata": {},
   "source": [
    "### 1.3.4 Combination of comparisons and Boolean operatos\n",
    "We may be interested to check if a combination of expressions is true. "
   ]
  },
  {
   "cell_type": "code",
   "execution_count": null,
   "metadata": {},
   "outputs": [],
   "source": [
    "(10==5+5) or (2==(2*2))"
   ]
  },
  {
   "cell_type": "code",
   "execution_count": null,
   "metadata": {},
   "outputs": [],
   "source": [
    "greetings = [\"hi\", \"hello\"]\n",
    "if \"moin\" not in greetings:\n",
    "    print(greetings[0])\n",
    "    print(\"Have you ever been to Bremen?\")"
   ]
  },
  {
   "cell_type": "code",
   "execution_count": null,
   "metadata": {},
   "outputs": [],
   "source": [
    "# Many statements can be combined using Boolean operators.\n",
    "# Use parenthesese to order them appropriately."
   ]
  },
  {
   "cell_type": "code",
   "execution_count": null,
   "metadata": {},
   "outputs": [],
   "source": [
    "1==2 or 1==3 or 1==4 and  1==5"
   ]
  },
  {
   "cell_type": "code",
   "execution_count": null,
   "metadata": {},
   "outputs": [],
   "source": [
    "1==2 or 1==1"
   ]
  },
  {
   "cell_type": "code",
   "execution_count": null,
   "metadata": {},
   "outputs": [],
   "source": [
    "(1==2) or (1==1)"
   ]
  },
  {
   "cell_type": "code",
   "execution_count": null,
   "metadata": {},
   "outputs": [],
   "source": [
    "(1==2 or 1==3 or 1==4 and  1==5) or True"
   ]
  },
  {
   "cell_type": "code",
   "execution_count": null,
   "metadata": {},
   "outputs": [],
   "source": [
    "(1==2 or 1==3 or 1==4) and  ( (1==5) or True )"
   ]
  },
  {
   "cell_type": "code",
   "execution_count": null,
   "metadata": {},
   "outputs": [],
   "source": []
  },
  {
   "cell_type": "code",
   "execution_count": null,
   "metadata": {},
   "outputs": [],
   "source": [
    "(2 < 1) is False"
   ]
  },
  {
   "cell_type": "code",
   "execution_count": null,
   "metadata": {},
   "outputs": [],
   "source": [
    "1 < 2 < 3"
   ]
  },
  {
   "cell_type": "code",
   "execution_count": null,
   "metadata": {},
   "outputs": [],
   "source": [
    "1 < 2 and 2 < 3"
   ]
  },
  {
   "cell_type": "code",
   "execution_count": null,
   "metadata": {},
   "outputs": [],
   "source": [
    "(2+2) == (1+3) < 5"
   ]
  },
  {
   "cell_type": "code",
   "execution_count": null,
   "metadata": {},
   "outputs": [],
   "source": [
    "4 == 4 and 4 < 5"
   ]
  },
  {
   "cell_type": "markdown",
   "metadata": {},
   "source": [
    "If you want to learn more about Boolean algebra and logical operators, please have a look at the following Wikipedia pages:\n",
    "- https://en.wikipedia.org/wiki/Logical_connective\n",
    "- https://en.wikipedia.org/wiki/Boolean_algebra"
   ]
  },
  {
   "cell_type": "markdown",
   "metadata": {},
   "source": [
    "## 1.4 help!\n",
    "As always: *help()* is your friend."
   ]
  },
  {
   "cell_type": "code",
   "execution_count": null,
   "metadata": {},
   "outputs": [],
   "source": [
    "help('topics')"
   ]
  },
  {
   "cell_type": "code",
   "execution_count": null,
   "metadata": {},
   "outputs": [],
   "source": [
    "help(\"if\")"
   ]
  },
  {
   "cell_type": "code",
   "execution_count": null,
   "metadata": {},
   "outputs": [],
   "source": [
    "help(\"BOOLEAN\")"
   ]
  },
  {
   "cell_type": "markdown",
   "metadata": {
    "jp-MarkdownHeadingCollapsed": true
   },
   "source": [
    "***\n",
    "## END OF NOTEBOOK 1\n",
    "***"
   ]
  }
 ],
 "metadata": {
  "kernelspec": {
   "display_name": "Python 3 (ipykernel)",
   "language": "python",
   "name": "python3"
  },
  "language_info": {
   "codemirror_mode": {
    "name": "ipython",
    "version": 3
   },
   "file_extension": ".py",
   "mimetype": "text/x-python",
   "name": "python",
   "nbconvert_exporter": "python",
   "pygments_lexer": "ipython3",
   "version": "3.11.6"
  }
 },
 "nbformat": 4,
 "nbformat_minor": 4
}
